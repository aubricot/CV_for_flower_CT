{
  "nbformat": 4,
  "nbformat_minor": 0,
  "metadata": {
    "colab": {
      "provenance": [],
      "authorship_tag": "ABX9TyP3cRt7EqwKEPeFm8SfKzEF",
      "include_colab_link": true
    },
    "kernelspec": {
      "name": "python3",
      "display_name": "Python 3"
    },
    "language_info": {
      "name": "python"
    }
  },
  "cells": [
    {
      "cell_type": "markdown",
      "metadata": {
        "id": "view-in-github",
        "colab_type": "text"
      },
      "source": [
        "<a href=\"https://colab.research.google.com/github/aubricot/CV_for_flower_CT/blob/main/preprocessing_whole_flower_nrrd2nifti.ipynb\" target=\"_parent\"><img src=\"https://colab.research.google.com/assets/colab-badge.svg\" alt=\"Open In Colab\"/></a>"
      ]
    },
    {
      "cell_type": "markdown",
      "source": [
        "# Convert .nrrd and .seg.nrrd files from 3D Slicer to .nii.gz (nifti) files for machine learning - Whole Flower\n",
        "---   \n",
        "*Last Updated 26 March 2025*  \n",
        "-Runs in Python 3-   \n",
        "Convert 3D slicer volume and segmentation files into nifti format for machine learning"
      ],
      "metadata": {
        "id": "ExUadQan_7DO"
      }
    },
    {
      "cell_type": "code",
      "execution_count": null,
      "metadata": {
        "id": "7g2TphAD91aS"
      },
      "outputs": [],
      "source": [
        "#@title Choose where to save results\n",
        "\n",
        "# Imports\n",
        "import os\n",
        "!pip install slicerio\n",
        "import slicerio\n",
        "import json\n",
        "!pip install SimpleITK\n",
        "import SimpleITK as sitk\n",
        "import nrrd\n",
        "!pip install torchio\n",
        "import torchio as tio\n",
        "\n",
        "# Use dropdown menu on right\n",
        "save = \"in my Google Drive\" #@param [\"in my Google Drive\", \"in Colab runtime (files deleted after each session)\"]\n",
        "\n",
        "# Mount google drive to export image tagging file(s)\n",
        "if 'Google Drive' in save:\n",
        "    from google.colab import drive\n",
        "    drive.mount('/content/drive', force_remount=True)\n",
        "\n",
        "# Type in the path to your project wd in form field on right\n",
        "wd = \"/content/drive/MyDrive/slicer\" # @param [\"/content/drive/MyDrive/slicer\"] {\"allow-input\":true}\n",
        "print(\"\\nWorking with data from:\")\n",
        "%cd $wd\n",
        "\n",
        "# Set up folder to save .nii.gz files\n",
        "ngz_folder = \"masked_val_niigzs\" # @param {\"type\":\"string\",\"placeholder\":\"nii_gzs\"}\n",
        "ngz_fpath = wd + '/' + ngz_folder\n",
        "# Set up folder to save segmentation files (labels)\n",
        "labels_fpath = ngz_fpath + '/' + 'labels'\n",
        "# Set up folder to save segmentation files (labels)\n",
        "images_fpath = ngz_fpath + '/' + 'images'\n",
        "\n",
        "# Make ngz_folder if it doesn't already exist\n",
        "if not os.path.exists(ngz_fpath):\n",
        "    print(\"Making ngz_folder at: \", ngz_fpath)\n",
        "    os.makedirs(ngz_fpath)\n",
        "    print(\"Making labels_folder at : \", labels_fpath)\n",
        "    os.makedirs(labels_fpath)\n",
        "    print(\"Making images_folder at : \", images_fpath)\n",
        "    os.makedirs(images_fpath)\n",
        "\n",
        "else:\n",
        "    print(\"\\nngz_folder, images_folder, and labels_folder already exist at: \", ngz_fpath, images_fpath, labels_fpath)"
      ]
    },
    {
      "cell_type": "code",
      "source": [
        "#@title Whole Flower: Inspect a single segmentation file to see how it's ready\n",
        "\n",
        "input_filename = \"thecac_fbg_cg_220622_03/thecac_fbg_cg_220622_03.seg.nrrd\" # @param [\"thecac_fbg_cg_220622_03/thecac_fbg_cg_220622_03.seg.nrrd\"] {\"allow-input\":true}\n",
        "\n",
        "segmentation = slicerio.read_segmentation(input_filename, skip_voxels=True)\n",
        "\n",
        "number_of_segments = len(segmentation[\"segments\"])\n",
        "print(f\"Number of segments: {number_of_segments}\")\n",
        "\n",
        "segment_names = slicerio.segment_names(segmentation)\n",
        "print(f\"Segment names: {', '.join(segment_names)}\")\n",
        "\n",
        "segment0 = slicerio.segment_from_name(segmentation, segment_names[0])\n",
        "print(\"First segment info:\\n\" + json.dumps(segment0, sort_keys=False, indent=4))"
      ],
      "metadata": {
        "id": "ApQLgyGUdoeM"
      },
      "execution_count": null,
      "outputs": []
    },
    {
      "cell_type": "code",
      "source": [
        "#@title Whole Flower: Crawl through wd to find .nrrd and _crop.nrrd files, convert them to .nii.gz, save to ngz_folder\n",
        "\n",
        "# List input and output filenames\n",
        "in_vols = [] # volume files (.nrrd or _crop.nrrd)\n",
        "out_vols = [] # volume files (.nii.gz)\n",
        "in_segs = [] # segmentation files (.seg.nrrd)\n",
        "out_segs = [] # segmentation files (_seg.nii.gz)\n",
        "\n",
        "# Directories to search for volumes and segmentation labels\n",
        "include = ['the', 'THE', 'The'] # Only use folders for theobroma cacao (thecac)\n",
        "dirs = os.listdir('.')\n",
        "dirs = [dir for dir in dirs if any(y in dir for y in include)]\n",
        "\n",
        "# Make a list of directories to check if missing files\n",
        "dirs_to_check = []\n",
        "segs_to_check = []\n",
        "\n",
        "# Walk through chosen directories\n",
        "for dir in dirs:\n",
        "    files = os.listdir(dir)\n",
        "    files = [f for f in files if dir in f]\n",
        "    print(\"\\n \\033[92m Searching files in: {}\\033[0m\".format(dir))\n",
        "    seg_file = [f for f in files if f.endswith(\"seg.nrrd\")]\n",
        "    vol_file = [f for f in files if \"mask\" in f]\n",
        "    if not vol_file:\n",
        "        vol_file = [f for f in files if (\"seg\" not in f) and (f.endswith(\".nrrd\"))]\n",
        "\n",
        "    # Warning message\n",
        "    if not seg_file and vol_file:\n",
        "        print(\"\\n \\033[31m Missing segmentation or volume file!\\033[0m\")\n",
        "        print(\"Check files at: \", dir)\n",
        "        dirs_to_check.append(dir)\n",
        "        pass\n",
        "\n",
        "    # Success message\n",
        "    else:\n",
        "        try:\n",
        "            print(\"\\033[92m Found segmentation and volume files!\\033[0m\")\n",
        "            print(\"seg_file: \", seg_file)\n",
        "            print(\"vol_file: \", vol_file)\n",
        "\n",
        "            # Hacky workaround for list comprehension results\n",
        "            seg_file = seg_file[0]\n",
        "            vol_file = vol_file[0]\n",
        "\n",
        "            # Segs\n",
        "            # First, check if it has the correct number of labels\n",
        "            num_labels = 1 #@param\n",
        "            seg = slicerio.read_segmentation(dir + '/' + seg_file, skip_voxels=True)\n",
        "            num_segs = len(seg[\"segments\"])\n",
        "            if num_segs == num_labels:\n",
        "                img = sitk.ReadImage(dir + '/' + seg_file)\n",
        "                outpath = labels_fpath + '/' + seg_file[:-9] + '_seg.nii.gz'\n",
        "                print(\"seg_file saved to: \", outpath)\n",
        "                sitk.WriteImage(img, outpath)\n",
        "                in_segs.append(seg_file)\n",
        "                out_segs.append(outpath)\n",
        "            else:\n",
        "                print(\"\\033[31m Wrong number of labels for segmentation file: {}\\033[0m\\n\".format((dir + '/' + seg_file)))\n",
        "                segs_to_check.append((dir + '/' + seg_file))\n",
        "\n",
        "            # Vols\n",
        "            img = sitk.ReadImage(dir + '/' + vol_file)\n",
        "            outpath = images_fpath + '/' + vol_file[:-5] + '.nii.gz'\n",
        "            print(\"vol_file saved to: \", outpath)\n",
        "            sitk.WriteImage(img, outpath)\n",
        "            in_vols.append(vol_file)\n",
        "            out_vols.append(outpath)\n",
        "        except:\n",
        "            pass\n",
        "\n",
        "    print(\"{} .nrrd files and {} seg.nrrd files from {} converted to .nii.gz at \\n volumes: {} \\n labels: {}\".format(len(in_vols), len(in_segs), wd, ngz_fpath, labels_fpath))\n",
        "    print(\"{} folders were missing seg or vol files. Check on folders: {}\".format(len(dirs_to_check), dirs_to_check))\n",
        "\n",
        "# Save dirs_to_check to txt file in your wd for record of missing files\n",
        "with open(\"dirs_to_check.txt\", \"w\") as output:\n",
        "    output.write(str(dirs_to_check))\n",
        "print(\"Saved dirs_to_check list to: \", (wd + '/dirs_to_check.txt'))\n",
        "\n",
        "# Save segs_to_check to txt file in your wd for record of missing files\n",
        "with open(\"segs_to_check.txt\", \"w\") as output:\n",
        "    output.write(str(segs_to_check))\n",
        "print(\"Saved segs_to_check list to: \", (wd + '/segs_to_check.txt'))"
      ],
      "metadata": {
        "id": "hv6RpB6SKEd3"
      },
      "execution_count": null,
      "outputs": []
    },
    {
      "cell_type": "code",
      "source": [
        "#@title Resample the labels so they match the CT images (converting from nrrd to nifti can lose this info inconsistently)\n",
        "\n",
        "# Fill these two lists\n",
        "ct_paths = sorted(os.listdir(ngz_fpath + \"/images\"))\n",
        "seg_paths = sorted(os.listdir(ngz_fpath + \"/labels\"))\n",
        "\n",
        "for ct_path, seg_path in zip(ct_paths, seg_paths):\n",
        "    ct_path = ngz_fpath + \"/images/\" + ct_path\n",
        "    seg_path = ngz_fpath + \"/labels/\" + seg_path\n",
        "    image = tio.LabelMap(seg_path)\n",
        "    transform = tio.Resample(ct_path)\n",
        "    transformed = transform(image)\n",
        "    out_path = seg_path.replace('_seg', '_seg_reg')\n",
        "    transformed.save(out_path)"
      ],
      "metadata": {
        "id": "-c-ZZ66inGLv"
      },
      "execution_count": null,
      "outputs": []
    },
    {
      "cell_type": "code",
      "source": [
        "#@title Zip the folder for archival purposes\n",
        "# Enter wd, zip and unzipped filename using form field to right\n",
        "wd = \"/content/drive/MyDrive/slicer\" #@param [\"/content/drive/MyDrive\"] {allow-input: true}\n",
        "zip_fn = ngz_folder + '.zip'\n",
        "zip_fpath = wd + '/' + zip_fn\n",
        "unzipped_fn = ngz_folder\n",
        "unzipped_fpath = wd + '/' + unzipped_fn\n",
        "\n",
        "# Zip the file/folder\n",
        "!zip -r $zip_fpath $unzipped_fpath"
      ],
      "metadata": {
        "id": "T5mfzJ3wklWL"
      },
      "execution_count": null,
      "outputs": []
    }
  ]
}