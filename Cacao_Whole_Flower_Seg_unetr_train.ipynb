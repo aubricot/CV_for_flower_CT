{
  "cells": [
    {
      "cell_type": "markdown",
      "metadata": {
        "id": "view-in-github",
        "colab_type": "text"
      },
      "source": [
        "<a href=\"https://colab.research.google.com/github/aubricot/CV_for_flower_CT/blob/main/Cacao_Whole_Flower_Seg_unetr_train.ipynb\" target=\"_parent\"><img src=\"https://colab.research.google.com/assets/colab-badge.svg\" alt=\"Open In Colab\"/></a>"
      ]
    },
    {
      "cell_type": "markdown",
      "metadata": {
        "id": "3iHpIGLEPFOB"
      },
      "source": [
        "# Using MONAI Label for shape prediction of flowers from micro-CT images\n",
        "---   \n",
        "*Last Updated 31 Mar 2023*  \n",
        "-Runs in Python 3 with Monai 1.5-   \n",
        "This notebook uses a dataset of micro-CT images and segementations (both as nifti files, .nii.gz) to custom train a UNETR Computer Vision Model ([Hatamizadeh et al. 2021](https://arxiv.org/abs/2103.10504)) using the [MONAI Label](https://github.com/aubricot/computer_vision_with_eol_images/tree/master/classification_for_image_tagging) framework. U-Nets are a type of Convolutional Neural Network (CNN) shaped like a \"U\" with pairings of encoders (contracting path) and decoders (expanding path) who have gained popularity in recent years as a tool for segmentation of 3D image datasets ([Tomar 2021](https://medium.com/analytics-vidhya/what-is-unet-157314c87634&ved=2ahUKEwjeiK-myoyMAxX-QzABHb85DmQQFnoECBEQAQ&usg=AOvVaw1V_3fmv2Fckxy0QTuwS6LM)). UNETR has a similar network design/shape for the encoder and decoder as a U-Net, but UNET TRansformers (UNETR), uses a transformer as the encoder.\n",
        "\n",
        "_References_\n",
        "\n",
        "* [Hatamizadeh et al. 2021](https://arxiv.org/abs/2103.10504)   \n",
        "* [Tomar 2021](https://medium.com/analytics-vidhya/what-is-unet-157314c87634&ved=2ahUKEwjeiK-myoyMAxX-QzABHb85DmQQFnoECBEQAQ&usg=AOvVaw1V_3fmv2Fckxy0QTuwS6LM)\n",
        "\n",
        "_License_   \n",
        "This notebook is licensed under an [MIT license](https://github.com/aubricot/CV_for_flower_CT/blob/master/LICENSE). Portions are modified from the MONAI Label [3D Multi-organ Segmentation with UNETR (BTCV Challenge)](https://github.com/Project-MONAI/tutorials/blob/main/3d_segmentation/unetr_btcv_segmentation_3d.ipynb) following licensing terms under Copyright (c) MONAI Consortium and [Apache License, Version 2.0](http://www.apache.org/licenses/LICENSE-2.0).\n",
        "\n",
        "The sections \"Make sure runtime is set to GPU and High RAM,\" \"Train pipeline,\" and \"Plot train Loss and mean DICE and save results to file\" were modified from 3D Multi-organ Segmentation with UNETR (BTCV Challenge) to better suit our needs. Google Colab form fields were also added, as well as tools to split the dataset train-validate-test, methods to save training outputs (trained models, notebook in its state for each train run as a txt file, and train graphs; named based on the train attempt number (ie the first train attempt files were saved as 01.ph, 01.txt, and 01.png)."
      ]
    },
    {
      "cell_type": "markdown",
      "metadata": {
        "id": "ZG6BekRX0YUN"
      },
      "source": [
        "## Installs & Imports\n",
        "---"
      ]
    },
    {
      "cell_type": "code",
      "execution_count": 1,
      "metadata": {
        "id": "IxiZicF74BXj",
        "colab": {
          "base_uri": "https://localhost:8080/"
        },
        "outputId": "54ddaced-f94a-47cf-8245-cb953aa604df"
      },
      "outputs": [
        {
          "output_type": "stream",
          "name": "stdout",
          "text": [
            "Mon Mar 31 16:52:07 2025       \n",
            "+-----------------------------------------------------------------------------------------+\n",
            "| NVIDIA-SMI 550.54.15              Driver Version: 550.54.15      CUDA Version: 12.4     |\n",
            "|-----------------------------------------+------------------------+----------------------+\n",
            "| GPU  Name                 Persistence-M | Bus-Id          Disp.A | Volatile Uncorr. ECC |\n",
            "| Fan  Temp   Perf          Pwr:Usage/Cap |           Memory-Usage | GPU-Util  Compute M. |\n",
            "|                                         |                        |               MIG M. |\n",
            "|=========================================+========================+======================|\n",
            "|   0  NVIDIA A100-SXM4-40GB          Off |   00000000:00:04.0 Off |                    0 |\n",
            "| N/A   32C    P0             45W /  400W |       0MiB /  40960MiB |      0%      Default |\n",
            "|                                         |                        |             Disabled |\n",
            "+-----------------------------------------+------------------------+----------------------+\n",
            "                                                                                         \n",
            "+-----------------------------------------------------------------------------------------+\n",
            "| Processes:                                                                              |\n",
            "|  GPU   GI   CI        PID   Type   Process name                              GPU Memory |\n",
            "|        ID   ID                                                               Usage      |\n",
            "|=========================================================================================|\n",
            "|  No running processes found                                                             |\n",
            "+-----------------------------------------------------------------------------------------+\n",
            "Your runtime has 89.6 gigabytes of available RAM\n",
            "\n",
            "You are using a high-RAM runtime!\n"
          ]
        }
      ],
      "source": [
        "#@title Make sure runtime is set to GPU and High RAM\n",
        "# Copyright (c) MONAI Consortium and [Apache License, Version 2.0](http://www.apache.org/licenses/LICENSE-2.0)\n",
        "gpu_info = !nvidia-smi\n",
        "gpu_info = '\\n'.join(gpu_info)\n",
        "if gpu_info.find('failed') >= 0:\n",
        "  print('Not connected to a GPU')\n",
        "else:\n",
        "  print(gpu_info)\n",
        "\n",
        "from psutil import virtual_memory\n",
        "ram_gb = virtual_memory().total / 1e9\n",
        "print('Your runtime has {:.1f} gigabytes of available RAM\\n'.format(ram_gb))\n",
        "\n",
        "if ram_gb < 20:\n",
        "  print('Not using a high-RAM runtime')\n",
        "else:\n",
        "  print('You are using a high-RAM runtime!')"
      ]
    },
    {
      "cell_type": "code",
      "execution_count": 2,
      "metadata": {
        "id": "Z45TOUuL2we9",
        "colab": {
          "base_uri": "https://localhost:8080/"
        },
        "outputId": "20c6b10b-7719-45e0-bba5-580885149342"
      },
      "outputs": [
        {
          "output_type": "stream",
          "name": "stdout",
          "text": [
            "Suggested max number of workers is:  12\n"
          ]
        }
      ],
      "source": [
        "#@title Check how many workers are suggested for your system\n",
        "# TO DO: Adjust num_workers throughout code to speed or slow performance based on available (cloud) hardware\n",
        "import os\n",
        "\n",
        "cpu_count = os.cpu_count()\n",
        "if cpu_count is not None:\n",
        "    max_num_worker_suggest = cpu_count\n",
        "\n",
        "print(\"Suggested max number of workers is: \", max_num_worker_suggest)"
      ]
    },
    {
      "cell_type": "code",
      "execution_count": 3,
      "metadata": {
        "colab": {
          "base_uri": "https://localhost:8080/"
        },
        "id": "RzKDsTXQfAmj",
        "outputId": "4baa5380-793b-49fd-b922-0d66471350cb"
      },
      "outputs": [
        {
          "output_type": "stream",
          "name": "stdout",
          "text": [
            "Mounted at /content/drive\n",
            "Working with data from: \n",
            "\n",
            "/content/drive/MyDrive/Miami_21/project/manuscripts/CV_for_flower_CT/analysis/data\n"
          ]
        }
      ],
      "source": [
        "#@title Choose where to save results\n",
        "\n",
        "# Use dropdown menu on right\n",
        "save = \"in my Google Drive\" #@param [\"in my Google Drive\", \"in Colab runtime (files deleted after each session)\"]\n",
        "\n",
        "# Mount google drive to export image tagging file(s)\n",
        "if 'Google Drive' in save:\n",
        "    from google.colab import drive\n",
        "    drive.mount('/content/drive', force_remount=False)\n",
        "\n",
        "# Type in the path to your project wd in form field on right\n",
        "wd = \"/content/drive/MyDrive/Miami_21/project/manuscripts/CV_for_flower_CT/analysis/data\" # @param [\"/content/drive/MyDrive/Miami_21/project/manuscripts/CV_for_flower_CT/analysis/data\",\"/content/drive/MyDrive/Miami_21/project/manuscripts/CV_for_flower_CT/analysis/demo_data/Abdomen/Abdomen/RawData/data\"] {\"allow-input\":true}\n",
        "print(\"Working with data from: \\n\")\n",
        "%cd $wd"
      ]
    },
    {
      "cell_type": "code",
      "execution_count": null,
      "metadata": {
        "id": "XMR-JPJ_-aGn",
        "cellView": "form"
      },
      "outputs": [],
      "source": [
        "#@title Only run once during initial setup: Unzip dataset converted and zipped with preprocessing_nrrd2nifti.ipynb\n",
        "# Enter wd, zip and unzipped filenames using form field to right\n",
        "wd = \"/content/drive/MyDrive/Miami_21/project/manuscripts/CV_for_flower_CT/analysis/data/input\" #@param [\"/content/drive/MyDrive\"] {allow-input: true}\n",
        "zip_fn = \"nii_gzs5_masked.zip\" #@param [\"PlantCLEF2015TrainingData_2.zip\"] {allow-input: true}\n",
        "zip_fpath = wd + '/' + zip_fn\n",
        "unzipped_fn = \"nii_gzs5_masked\" #@param [\"images\"] {allow-input: true}\n",
        "unzipped_fpath = wd + '/' + unzipped_fn\n",
        "\n",
        "# Unzip the file/folder\n",
        "!unzip $zip_fpath -d $unzipped_fpath"
      ]
    },
    {
      "cell_type": "code",
      "execution_count": 4,
      "metadata": {
        "colab": {
          "base_uri": "https://localhost:8080/"
        },
        "id": "BDXTgDy0PFOE",
        "outputId": "7e770b5a-831a-4c02-bdb7-da117840006d"
      },
      "outputs": [
        {
          "output_type": "stream",
          "name": "stdout",
          "text": [
            "\u001b[2K   \u001b[90m━━━━━━━━━━━━━━━━━━━━━━━━━━━━━━━━━━━━━━━━\u001b[0m \u001b[32m363.4/363.4 MB\u001b[0m \u001b[31m2.9 MB/s\u001b[0m eta \u001b[36m0:00:00\u001b[0m\n",
            "\u001b[2K   \u001b[90m━━━━━━━━━━━━━━━━━━━━━━━━━━━━━━━━━━━━━━━━\u001b[0m \u001b[32m13.8/13.8 MB\u001b[0m \u001b[31m115.9 MB/s\u001b[0m eta \u001b[36m0:00:00\u001b[0m\n",
            "\u001b[2K   \u001b[90m━━━━━━━━━━━━━━━━━━━━━━━━━━━━━━━━━━━━━━━━\u001b[0m \u001b[32m24.6/24.6 MB\u001b[0m \u001b[31m85.8 MB/s\u001b[0m eta \u001b[36m0:00:00\u001b[0m\n",
            "\u001b[2K   \u001b[90m━━━━━━━━━━━━━━━━━━━━━━━━━━━━━━━━━━━━━━━━\u001b[0m \u001b[32m883.7/883.7 kB\u001b[0m \u001b[31m53.9 MB/s\u001b[0m eta \u001b[36m0:00:00\u001b[0m\n",
            "\u001b[2K   \u001b[90m━━━━━━━━━━━━━━━━━━━━━━━━━━━━━━━━━━━━━━━━\u001b[0m \u001b[32m664.8/664.8 MB\u001b[0m \u001b[31m1.6 MB/s\u001b[0m eta \u001b[36m0:00:00\u001b[0m\n",
            "\u001b[2K   \u001b[90m━━━━━━━━━━━━━━━━━━━━━━━━━━━━━━━━━━━━━━━━\u001b[0m \u001b[32m211.5/211.5 MB\u001b[0m \u001b[31m10.5 MB/s\u001b[0m eta \u001b[36m0:00:00\u001b[0m\n",
            "\u001b[2K   \u001b[90m━━━━━━━━━━━━━━━━━━━━━━━━━━━━━━━━━━━━━━━━\u001b[0m \u001b[32m56.3/56.3 MB\u001b[0m \u001b[31m38.6 MB/s\u001b[0m eta \u001b[36m0:00:00\u001b[0m\n",
            "\u001b[2K   \u001b[90m━━━━━━━━━━━━━━━━━━━━━━━━━━━━━━━━━━━━━━━━\u001b[0m \u001b[32m127.9/127.9 MB\u001b[0m \u001b[31m17.8 MB/s\u001b[0m eta \u001b[36m0:00:00\u001b[0m\n",
            "\u001b[2K   \u001b[90m━━━━━━━━━━━━━━━━━━━━━━━━━━━━━━━━━━━━━━━━\u001b[0m \u001b[32m207.5/207.5 MB\u001b[0m \u001b[31m5.4 MB/s\u001b[0m eta \u001b[36m0:00:00\u001b[0m\n",
            "\u001b[2K   \u001b[90m━━━━━━━━━━━━━━━━━━━━━━━━━━━━━━━━━━━━━━━━\u001b[0m \u001b[32m21.1/21.1 MB\u001b[0m \u001b[31m100.5 MB/s\u001b[0m eta \u001b[36m0:00:00\u001b[0m\n",
            "\u001b[2K   \u001b[90m━━━━━━━━━━━━━━━━━━━━━━━━━━━━━━━━━━━━━━━━\u001b[0m \u001b[32m2.6/2.6 MB\u001b[0m \u001b[31m95.4 MB/s\u001b[0m eta \u001b[36m0:00:00\u001b[0m\n",
            "\u001b[?25hRequirement already satisfied: nbconvert in /usr/local/lib/python3.11/dist-packages (7.16.6)\n",
            "Requirement already satisfied: beautifulsoup4 in /usr/local/lib/python3.11/dist-packages (from nbconvert) (4.13.3)\n",
            "Requirement already satisfied: bleach!=5.0.0 in /usr/local/lib/python3.11/dist-packages (from bleach[css]!=5.0.0->nbconvert) (6.2.0)\n",
            "Requirement already satisfied: defusedxml in /usr/local/lib/python3.11/dist-packages (from nbconvert) (0.7.1)\n",
            "Requirement already satisfied: jinja2>=3.0 in /usr/local/lib/python3.11/dist-packages (from nbconvert) (3.1.6)\n",
            "Requirement already satisfied: jupyter-core>=4.7 in /usr/local/lib/python3.11/dist-packages (from nbconvert) (5.7.2)\n",
            "Requirement already satisfied: jupyterlab-pygments in /usr/local/lib/python3.11/dist-packages (from nbconvert) (0.3.0)\n",
            "Requirement already satisfied: markupsafe>=2.0 in /usr/local/lib/python3.11/dist-packages (from nbconvert) (3.0.2)\n",
            "Requirement already satisfied: mistune<4,>=2.0.3 in /usr/local/lib/python3.11/dist-packages (from nbconvert) (3.1.3)\n",
            "Requirement already satisfied: nbclient>=0.5.0 in /usr/local/lib/python3.11/dist-packages (from nbconvert) (0.10.2)\n",
            "Requirement already satisfied: nbformat>=5.7 in /usr/local/lib/python3.11/dist-packages (from nbconvert) (5.10.4)\n",
            "Requirement already satisfied: packaging in /usr/local/lib/python3.11/dist-packages (from nbconvert) (24.2)\n",
            "Requirement already satisfied: pandocfilters>=1.4.1 in /usr/local/lib/python3.11/dist-packages (from nbconvert) (1.5.1)\n",
            "Requirement already satisfied: pygments>=2.4.1 in /usr/local/lib/python3.11/dist-packages (from nbconvert) (2.18.0)\n",
            "Requirement already satisfied: traitlets>=5.1 in /usr/local/lib/python3.11/dist-packages (from nbconvert) (5.7.1)\n",
            "Requirement already satisfied: webencodings in /usr/local/lib/python3.11/dist-packages (from bleach!=5.0.0->bleach[css]!=5.0.0->nbconvert) (0.5.1)\n",
            "Requirement already satisfied: tinycss2<1.5,>=1.1.0 in /usr/local/lib/python3.11/dist-packages (from bleach[css]!=5.0.0->nbconvert) (1.4.0)\n",
            "Requirement already satisfied: platformdirs>=2.5 in /usr/local/lib/python3.11/dist-packages (from jupyter-core>=4.7->nbconvert) (4.3.7)\n",
            "Requirement already satisfied: jupyter-client>=6.1.12 in /usr/local/lib/python3.11/dist-packages (from nbclient>=0.5.0->nbconvert) (6.1.12)\n",
            "Requirement already satisfied: fastjsonschema>=2.15 in /usr/local/lib/python3.11/dist-packages (from nbformat>=5.7->nbconvert) (2.21.1)\n",
            "Requirement already satisfied: jsonschema>=2.6 in /usr/local/lib/python3.11/dist-packages (from nbformat>=5.7->nbconvert) (4.23.0)\n",
            "Requirement already satisfied: soupsieve>1.2 in /usr/local/lib/python3.11/dist-packages (from beautifulsoup4->nbconvert) (2.6)\n",
            "Requirement already satisfied: typing-extensions>=4.0.0 in /usr/local/lib/python3.11/dist-packages (from beautifulsoup4->nbconvert) (4.13.0)\n",
            "Requirement already satisfied: attrs>=22.2.0 in /usr/local/lib/python3.11/dist-packages (from jsonschema>=2.6->nbformat>=5.7->nbconvert) (25.3.0)\n",
            "Requirement already satisfied: jsonschema-specifications>=2023.03.6 in /usr/local/lib/python3.11/dist-packages (from jsonschema>=2.6->nbformat>=5.7->nbconvert) (2024.10.1)\n",
            "Requirement already satisfied: referencing>=0.28.4 in /usr/local/lib/python3.11/dist-packages (from jsonschema>=2.6->nbformat>=5.7->nbconvert) (0.36.2)\n",
            "Requirement already satisfied: rpds-py>=0.7.1 in /usr/local/lib/python3.11/dist-packages (from jsonschema>=2.6->nbformat>=5.7->nbconvert) (0.24.0)\n",
            "Requirement already satisfied: pyzmq>=13 in /usr/local/lib/python3.11/dist-packages (from jupyter-client>=6.1.12->nbclient>=0.5.0->nbconvert) (24.0.1)\n",
            "Requirement already satisfied: python-dateutil>=2.1 in /usr/local/lib/python3.11/dist-packages (from jupyter-client>=6.1.12->nbclient>=0.5.0->nbconvert) (2.8.2)\n",
            "Requirement already satisfied: tornado>=4.1 in /usr/local/lib/python3.11/dist-packages (from jupyter-client>=6.1.12->nbclient>=0.5.0->nbconvert) (6.4.2)\n",
            "Requirement already satisfied: six>=1.5 in /usr/local/lib/python3.11/dist-packages (from python-dateutil>=2.1->jupyter-client>=6.1.12->nbclient>=0.5.0->nbconvert) (1.17.0)\n"
          ]
        }
      ],
      "source": [
        "#@title Installs\n",
        "!pip install -q \"monai-weekly[nibabel, tqdm, einops]\"\n",
        "!python -c \"import matplotlib\" || pip install -q matplotlib\n",
        "!pip install nbconvert\n",
        "%matplotlib inline"
      ]
    },
    {
      "cell_type": "code",
      "execution_count": 5,
      "metadata": {
        "colab": {
          "base_uri": "https://localhost:8080/"
        },
        "id": "-myucD_YPFOG",
        "outputId": "1c66c28d-0887-4227-8873-f20245e79adb"
      },
      "outputs": [
        {
          "output_type": "stream",
          "name": "stdout",
          "text": [
            "CUDA is available and being used.\n",
            "MONAI version: 1.5.dev2513\n",
            "Numpy version: 2.0.2\n",
            "Pytorch version: 2.6.0+cu124\n",
            "MONAI flags: HAS_EXT = False, USE_COMPILED = False, USE_META_DICT = False\n",
            "MONAI rev id: ef083a32ccc13ee3937a4bd8acc12b9cdc174e18\n",
            "MONAI __file__: /usr/local/lib/python3.11/dist-packages/monai/__init__.py\n",
            "\n",
            "Optional dependencies:\n",
            "Pytorch Ignite version: NOT INSTALLED or UNKNOWN VERSION.\n",
            "ITK version: NOT INSTALLED or UNKNOWN VERSION.\n",
            "Nibabel version: 5.3.2\n",
            "scikit-image version: 0.25.2\n",
            "scipy version: 1.14.1\n",
            "Pillow version: 11.1.0\n",
            "Tensorboard version: 2.18.0\n",
            "gdown version: 5.2.0\n",
            "TorchVision version: 0.21.0+cu124\n",
            "tqdm version: 4.67.1\n",
            "lmdb version: NOT INSTALLED or UNKNOWN VERSION.\n",
            "psutil version: 5.9.5\n",
            "pandas version: 2.2.2\n",
            "einops version: 0.8.1\n",
            "transformers version: 4.50.2\n",
            "mlflow version: NOT INSTALLED or UNKNOWN VERSION.\n",
            "pynrrd version: NOT INSTALLED or UNKNOWN VERSION.\n",
            "clearml version: NOT INSTALLED or UNKNOWN VERSION.\n",
            "\n",
            "For details about installing the optional dependencies, please visit:\n",
            "    https://docs.monai.io/en/latest/installation.html#installing-the-recommended-dependencies\n",
            "\n"
          ]
        }
      ],
      "source": [
        "#@title Imports\n",
        "import os\n",
        "import shutil\n",
        "import tempfile\n",
        "import glob\n",
        "import math\n",
        "import time\n",
        "\n",
        "import matplotlib.pyplot as plt\n",
        "from tqdm import tqdm\n",
        "\n",
        "from monai.utils import first\n",
        "from monai.losses import DiceCELoss, DiceLoss\n",
        "from monai.inferers import sliding_window_inference, SimpleInferer\n",
        "from monai.transforms import (\n",
        "    Activations,\n",
        "    AsDiscrete,\n",
        "    Compose,\n",
        "    CropForegroundd,\n",
        "    EnsureChannelFirstd,\n",
        "    EnsureType,\n",
        "    EnsureTyped,\n",
        "    FgBgToIndicesd,\n",
        "    LoadImaged,\n",
        "    Orientationd,\n",
        "    RandFlipd,\n",
        "    RandCropByPosNegLabeld,\n",
        "    RandShiftIntensityd,\n",
        "    RandSpatialCropd,\n",
        "    Resized,\n",
        "    ScaleIntensityRangePercentilesd,\n",
        "    ScaleIntensityRanged,\n",
        "    Spacingd,\n",
        "    RandRotate90d,\n",
        ")\n",
        "\n",
        "from monai.config import print_config\n",
        "from monai.metrics import DiceMetric\n",
        "from monai.networks.layers import Act, Norm\n",
        "from monai.networks.nets import UNETR, unet\n",
        "from torch.optim import Adam, SGD\n",
        "from monai.optimizers import Novograd\n",
        "from monai.apps import download_and_extract\n",
        "from monai.data import NibabelReader\n",
        "\n",
        "from monai.data import (\n",
        "    DataLoader,\n",
        "    CacheDataset,\n",
        "    load_decathlon_datalist,\n",
        "    decollate_batch,\n",
        "    ThreadDataLoader,\n",
        "    Dataset,\n",
        "    set_track_meta,\n",
        ")\n",
        "\n",
        "# Facilitate debugging by making GPU tell more useful information\n",
        "os.environ[\"CUDA_DEVICE_ORDER\"] = \"PCI_BUS_ID\"\n",
        "os.environ['CUDA_LAUNCH_BLOCKING'] = \"1\"\n",
        "import torch\n",
        "\n",
        "# Check that cuda is available\n",
        "if torch.cuda.is_available():\n",
        "    device = torch.device(\"cuda\")\n",
        "    print(\"CUDA is available and being used.\")\n",
        "else:\n",
        "    device = torch.device(\"cpu\")\n",
        "    print(\"CUDA is not available, using CPU instead.\")\n",
        "\n",
        "print_config()"
      ]
    },
    {
      "cell_type": "code",
      "execution_count": 6,
      "metadata": {
        "colab": {
          "base_uri": "https://localhost:8080/"
        },
        "id": "XOMgBexnmrIw",
        "outputId": "16d4b4d5-f95b-4a16-d698-85af9aefdddc"
      },
      "outputs": [
        {
          "output_type": "stream",
          "name": "stdout",
          "text": [
            "root dir is: /content/drive/MyDrive/Miami_21/project/manuscripts/CV_for_flower_CT/analysis/data\n",
            "out dir is: /content/drive/MyDrive/Miami_21/project/manuscripts/CV_for_flower_CT/analysis/data/results/\n"
          ]
        }
      ],
      "source": [
        "#@title Set up data directory\n",
        "os.environ['MONAI_DATA_DIRECTORY'] = wd\n",
        "directory = os.environ.get(\"MONAI_DATA_DIRECTORY\")\n",
        "root_dir = directory\n",
        "print(f\"root dir is: {root_dir}\")\n",
        "\n",
        "out_dir = wd + '/' + \"results/\"\n",
        "\n",
        "if not os.path.exists(out_dir):\n",
        "    os.makedirs(out_dir)\n",
        "\n",
        "print(f\"out dir is: {out_dir}\")"
      ]
    },
    {
      "cell_type": "code",
      "execution_count": 7,
      "metadata": {
        "id": "I96sR9xO3TZU"
      },
      "outputs": [],
      "source": [
        "#@title Define functions\n",
        "\n",
        "# Save each new training attempt results by name (TRAIN_SES_NUM)\n",
        "def set_saved_model_path(out_dir = out_dir, saved_models_dir = \"saved_models\"):\n",
        "    saved_models_wd = os.path.join(out_dir, saved_models_dir)\n",
        "    if not os.path.exists(saved_models_wd):\n",
        "        print(\"{} not found. Making saved models directory at: {}\".format(saved_models_dir, saved_models_wd))\n",
        "        os.mkdir(saved_models_wd)\n",
        "    # Name folder to sort by attempt number (useful if many training runs)\n",
        "    else:\n",
        "        try:\n",
        "            last_attempt = !ls $saved_models_wd | tail -n 1\n",
        "            last_attempt = int(os.path.splitext(last_attempt[0])[0])\n",
        "        except:\n",
        "            last_attempt = 0\n",
        "        if last_attempt < 9:\n",
        "            TRAIN_SESS_NUM = \"0\" + str(last_attempt + 1)\n",
        "        else:\n",
        "            TRAIN_SESS_NUM = str(last_attempt + 1)\n",
        "\n",
        "    saved_model_path = os.path.join(saved_models_wd, (TRAIN_SESS_NUM + \".pth\"))\n",
        "    print(\"Saving trained model results to: \", saved_model_path)\n",
        "\n",
        "    return saved_model_path, TRAIN_SESS_NUM\n",
        "\n",
        "# For pulling img and label file names from train/val dictionaries\n",
        "def find_dict_idx_by_val(dict_list, key, val):\n",
        "    for idx, dict in enumerate(dict_list):\n",
        "        if key in dict and val in dict[key]:\n",
        "            return idx"
      ]
    },
    {
      "cell_type": "markdown",
      "source": [
        "## Only run once during inital dataset setup: Train-test-validation split"
      ],
      "metadata": {
        "id": "U0rvGFcLEmML"
      }
    },
    {
      "cell_type": "code",
      "execution_count": null,
      "metadata": {
        "cellView": "form",
        "id": "GH8jTIcizTyR"
      },
      "outputs": [],
      "source": [
        "#@title Train-test-validation split\n",
        "!pip install split-folders\n",
        "import splitfolders\n",
        "\n",
        "# List all files in dir before splitting\n",
        "all_vols = os.listdir('./images/class1')\n",
        "n = len(all_vols)\n",
        "print(\"Training dataset size of N = \", n)\n",
        "\n",
        "# Save list of files before split to txt file in your wd\n",
        "with open(\"all_vols.txt\", \"w\") as output:\n",
        "    output.write(str(all_vols))\n",
        "print(\"List of all files before splitting saved to: \", (wd + '/all_vols.txt'))\n",
        "\n",
        "# Train-test-validation split (70% - 15% - 15%)\n",
        "splitfolders.ratio(\"images\", output=\"input\", seed=n,\n",
        "                   ratio=(0.7, 0.15, 0.15), group_prefix=None, move=False)"
      ]
    },
    {
      "cell_type": "code",
      "execution_count": null,
      "metadata": {
        "cellView": "form",
        "id": "Pqu-8yuhAhMw"
      },
      "outputs": [],
      "source": [
        "#@title Move labels to their corresponding train-test-val folders to match images\n",
        "\n",
        "# Get list of all labels\n",
        "all_labs = os.listdir('./labels/class1')\n",
        "all_labs = [os.path.splitext(os.path.splitext(file)[0])[0] for file in all_labs] # Remove .nii.gz extensions\n",
        "all_labs = [file.removesuffix('_seg') for file in all_labs]\n",
        "\n",
        "# Find which label files need to be moved to train-test-val and move them\n",
        "train = os.listdir('./input/train/class1')\n",
        "train = [os.path.splitext(os.path.splitext(file)[0])[0] for file in train] # Remove .nii.gz extensions\n",
        "train = [file.removesuffix('_crop') for file in train]\n",
        "train = [file.removesuffix('_cropped') for file in train]\n",
        "train = [file.removesuffix('_crop_mask') for file in train]\n",
        "\n",
        "test = os.listdir('./input/test/class1')\n",
        "test = [os.path.splitext(os.path.splitext(file)[0])[0] for file in test] # Remove .nii.gz extensions\n",
        "test = [file.removesuffix('_crop') for file in test]\n",
        "test = [file.removesuffix('_cropped') for file in test]\n",
        "test = [file.removesuffix('_crop_mask') for file in test]\n",
        "\n",
        "val = os.listdir('./input/val/class1')\n",
        "val = [os.path.splitext(os.path.splitext(file)[0])[0] for file in val] # Remove .nii.gz extensions\n",
        "val = [file.removesuffix('_crop') for file in val]\n",
        "val = [file.removesuffix('_cropped') for file in val]\n",
        "val = [file.removesuffix('_crop_mask') for file in val]\n",
        "\n",
        "train_mv = set(train) & set(all_labs)\n",
        "test_mv = set(test) & set(all_labs)\n",
        "val_mv = set(val) & set(all_labs)\n",
        "\n",
        "# Move files to train\n",
        "os.makedirs('input/train/class1/labels')\n",
        "for file in train_mv:\n",
        "    file_path = os.path.join('labels/class1', file + '_seg.nii.gz')\n",
        "    target = os.path.join('input/train/class1/labels', file + '_seg.nii.gz')\n",
        "    shutil.copy2(file_path, target)  # Preserves metadata\n",
        "    print(f\"Copied: {file_path} to {target}\")\n",
        "\n",
        "# Move files to test\n",
        "os.makedirs('input/test/class1/labels')\n",
        "for file in test_mv:\n",
        "    file_path = os.path.join('labels/class1', file + '_seg.nii.gz')\n",
        "    target = os.path.join('input/test/class1/labels', file + '_seg.nii.gz')\n",
        "    shutil.copy2(file_path, target)  # Preserves metadata\n",
        "    print(f\"Copied: {file_path} to {target}\")\n",
        "\n",
        "# Move files to validation (val)\n",
        "os.makedirs('input/val/class1/labels')\n",
        "for file in val_mv:\n",
        "    file_path = os.path.join('labels/class1', file + '_seg.nii.gz')\n",
        "    target = os.path.join('input/val/class1/labels', file + '_seg.nii.gz')\n",
        "    shutil.copy2(file_path, target)  # Preserves metadata\n",
        "    print(f\"Copied: {file_path} to {target}\")\n",
        "\n",
        "# Move all image files within train-test-val into images/\n",
        "target = 'input/train/class1/images'\n",
        "os.makedirs(target)\n",
        "source = './input/train/class1'\n",
        "files = os.listdir(source)\n",
        "for file in files:\n",
        "    shutil.move(os.path.join(source, file), target)\n",
        "    print(f\"Moved: {source} to {target}\")\n",
        "\n",
        "target = 'input/test/class1/images'\n",
        "os.makedirs(target)\n",
        "source = './input/test/class1'\n",
        "files = os.listdir(source)\n",
        "for file in files:\n",
        "    shutil.move(os.path.join(source, file), target)\n",
        "    print(f\"Moved: {source} to {target}\")\n",
        "\n",
        "target = 'input/val/class1/images'\n",
        "os.makedirs(target)\n",
        "source = './input/val/class1'\n",
        "files = os.listdir(source)\n",
        "for file in files:\n",
        "    shutil.move(os.path.join(source, file), target)\n",
        "    print(f\"Moved: {source} to {target}\")"
      ]
    },
    {
      "cell_type": "markdown",
      "metadata": {
        "id": "Z35Y-MlcPjcJ"
      },
      "source": [
        "## Transform datasets for training and validation"
      ]
    },
    {
      "cell_type": "code",
      "execution_count": 8,
      "metadata": {
        "colab": {
          "base_uri": "https://localhost:8080/"
        },
        "id": "kzKIGvLJrjV7",
        "outputId": "a903132f-9bf9-42f1-fa04-7459bcc1b802"
      },
      "outputs": [
        {
          "output_type": "stream",
          "name": "stdout",
          "text": [
            "Training model with 14 train images and 3 validation images\n",
            "\n",
            " Train images loaded from ['/content/drive/MyDrive/Miami_21/project/manuscripts/CV_for_flower_CT/analysis/data/input/train/images/THECAC_FBG_RF_220502_05_masked.nii.gz', '/content/drive/MyDrive/Miami_21/project/manuscripts/CV_for_flower_CT/analysis/data/input/train/images/Thecac_usda_MIA_SHRS7_220331_01_masked.nii.gz', '/content/drive/MyDrive/Miami_21/project/manuscripts/CV_for_flower_CT/analysis/data/input/train/images/thecac_fbg_cg_220622_01_masked.nii.gz', '/content/drive/MyDrive/Miami_21/project/manuscripts/CV_for_flower_CT/analysis/data/input/train/images/thecac_fbg_cg_220622_02_masked.nii.gz', '/content/drive/MyDrive/Miami_21/project/manuscripts/CV_for_flower_CT/analysis/data/input/train/images/thecac_fbg_cg_220622_03_crop_mask.nii.gz', '/content/drive/MyDrive/Miami_21/project/manuscripts/CV_for_flower_CT/analysis/data/input/train/images/thecac_fbg_cg_220622_06_masked.nii.gz', '/content/drive/MyDrive/Miami_21/project/manuscripts/CV_for_flower_CT/analysis/data/input/train/images/thecac_fbg_cg_220622_07_masked.nii.gz', '/content/drive/MyDrive/Miami_21/project/manuscripts/CV_for_flower_CT/analysis/data/input/train/images/thecac_fbg_rph_220622_06_masked.nii.gz', '/content/drive/MyDrive/Miami_21/project/manuscripts/CV_for_flower_CT/analysis/data/input/train/images/thecac_fbg_rph_220622_08_masked.nii.gz', '/content/drive/MyDrive/Miami_21/project/manuscripts/CV_for_flower_CT/analysis/data/input/train/images/thecac_fbg_rph_220622_09_masked.nii.gz', '/content/drive/MyDrive/Miami_21/project/manuscripts/CV_for_flower_CT/analysis/data/input/train/images/thecac_fbg_rph_220622_10_masked.nii.gz', '/content/drive/MyDrive/Miami_21/project/manuscripts/CV_for_flower_CT/analysis/data/input/train/images/thecac_fbg_rph_220622_11_masked.nii.gz', '/content/drive/MyDrive/Miami_21/project/manuscripts/CV_for_flower_CT/analysis/data/input/train/images/thecac_fbg_rph_220622_12_masked.nii.gz', '/content/drive/MyDrive/Miami_21/project/manuscripts/CV_for_flower_CT/analysis/data/input/train/images/thecac_fbg_rph_220622_13_masked.nii.gz', '/content/drive/MyDrive/Miami_21/project/manuscripts/CV_for_flower_CT/analysis/data/input/train/images/thecac_fbg_rph_220622_14_masked.nii.gz'] \n",
            " Train labels loaded from ['/content/drive/MyDrive/Miami_21/project/manuscripts/CV_for_flower_CT/analysis/data/input/train/labels/THECAC_FBG_RF_220502_05_seg_reg.nii.gz', '/content/drive/MyDrive/Miami_21/project/manuscripts/CV_for_flower_CT/analysis/data/input/train/labels/Thecac_usda_MIA_SHRS7_220331_01_seg_reg.nii.gz', '/content/drive/MyDrive/Miami_21/project/manuscripts/CV_for_flower_CT/analysis/data/input/train/labels/thecac_fbg_cg_220622_01_seg_reg.nii.gz', '/content/drive/MyDrive/Miami_21/project/manuscripts/CV_for_flower_CT/analysis/data/input/train/labels/thecac_fbg_cg_220622_02_seg_reg.nii.gz', '/content/drive/MyDrive/Miami_21/project/manuscripts/CV_for_flower_CT/analysis/data/input/train/labels/thecac_fbg_cg_220622_03_seg_reg.nii.gz', '/content/drive/MyDrive/Miami_21/project/manuscripts/CV_for_flower_CT/analysis/data/input/train/labels/thecac_fbg_cg_220622_06_seg_reg.nii.gz', '/content/drive/MyDrive/Miami_21/project/manuscripts/CV_for_flower_CT/analysis/data/input/train/labels/thecac_fbg_cg_220622_07_seg_reg.nii.gz', '/content/drive/MyDrive/Miami_21/project/manuscripts/CV_for_flower_CT/analysis/data/input/train/labels/thecac_fbg_rph_220622_08_seg_reg.nii.gz', '/content/drive/MyDrive/Miami_21/project/manuscripts/CV_for_flower_CT/analysis/data/input/train/labels/thecac_fbg_rph_220622_09_seg_reg.nii.gz', '/content/drive/MyDrive/Miami_21/project/manuscripts/CV_for_flower_CT/analysis/data/input/train/labels/thecac_fbg_rph_220622_10_seg_reg.nii.gz', '/content/drive/MyDrive/Miami_21/project/manuscripts/CV_for_flower_CT/analysis/data/input/train/labels/thecac_fbg_rph_220622_11_seg_reg.nii.gz', '/content/drive/MyDrive/Miami_21/project/manuscripts/CV_for_flower_CT/analysis/data/input/train/labels/thecac_fbg_rph_220622_12_seg_reg.nii.gz', '/content/drive/MyDrive/Miami_21/project/manuscripts/CV_for_flower_CT/analysis/data/input/train/labels/thecac_fbg_rph_220622_13_seg_reg.nii.gz', '/content/drive/MyDrive/Miami_21/project/manuscripts/CV_for_flower_CT/analysis/data/input/train/labels/thecac_fbg_rph_220622_14_seg_reg.nii.gz'] \n",
            " Validation images loaded from ['/content/drive/MyDrive/Miami_21/project/manuscripts/CV_for_flower_CT/analysis/data/input/val/images/thecac_fbg_cg_220622_05_masked.nii.gz', '/content/drive/MyDrive/Miami_21/project/manuscripts/CV_for_flower_CT/analysis/data/input/val/images/thecac_fbg_rph_220622_07_masked.nii.gz', '/content/drive/MyDrive/Miami_21/project/manuscripts/CV_for_flower_CT/analysis/data/input/val/images/thecac_fbg_rph_220622_15_masked.nii.gz'] \n",
            " Validation labels loaded from ['/content/drive/MyDrive/Miami_21/project/manuscripts/CV_for_flower_CT/analysis/data/input/val/labels/thecac_fbg_cg_220622_05_seg_reg.nii.gz', '/content/drive/MyDrive/Miami_21/project/manuscripts/CV_for_flower_CT/analysis/data/input/val/labels/thecac_fbg_rph_220622_07_seg_reg.nii.gz', '/content/drive/MyDrive/Miami_21/project/manuscripts/CV_for_flower_CT/analysis/data/input/val/labels/thecac_fbg_rph_220622_15_seg_reg.nii.gz']\n"
          ]
        }
      ],
      "source": [
        "#@title Get dataset filepaths for train and validation\n",
        "data_root = os.path.join(root_dir, \"input\")\n",
        "\n",
        "train_images = sorted(glob.glob(os.path.join(data_root, \"train/images\", \"*.nii.gz\")))\n",
        "train_labels = sorted(glob.glob(os.path.join(data_root, \"train/labels\", \"*.nii.gz\")))\n",
        "val_images = sorted(glob.glob(os.path.join(data_root, \"val/images\", \"*.nii.gz\")))\n",
        "val_labels = sorted(glob.glob(os.path.join(data_root, \"val/labels\", \"*.nii.gz\")))\n",
        "\n",
        "train_files = [{\"image\": image_name, \"label\": label_name} for image_name, label_name in zip(train_images, train_labels)]\n",
        "val_files = [{\"image\": image_name, \"label\": label_name} for image_name, label_name in zip(val_images, val_labels)]\n",
        "num_train = len(train_files)\n",
        "num_val = len(val_files)\n",
        "\n",
        "print(\"Training model with {} train images and {} validation images\\n\".format(num_train, num_val))\n",
        "print(\" Train images loaded from {} \\n Train labels loaded from {} \\n Validation images loaded from {} \\n Validation labels loaded from {}\".format(train_images, train_labels, val_images, val_labels))"
      ]
    },
    {
      "cell_type": "code",
      "execution_count": 9,
      "metadata": {
        "colab": {
          "base_uri": "https://localhost:8080/"
        },
        "id": "9XTwTQrKHIJO",
        "outputId": "2024b4f9-3eb8-4c61-bf66-da354d39831f"
      },
      "outputs": [
        {
          "output_type": "stream",
          "name": "stderr",
          "text": [
            "/usr/local/lib/python3.11/dist-packages/monai/utils/deprecate_utils.py:321: FutureWarning: monai.transforms.croppad.dictionary CropForegroundd.__init__:allow_smaller: Current default value of argument `allow_smaller=True` has been deprecated since version 1.2. It will be changed to `allow_smaller=False` in version 1.5.\n",
            "  warn_deprecated(argname, msg, warning_category)\n"
          ]
        }
      ],
      "source": [
        "#@title Dataset Transforms\n",
        "\n",
        "# use clip with ScaleIntensityRangePercentilesd?\n",
        "clip = False # @param {\"type\":\"boolean\"}\n",
        "relative = False # @param {\"type\":\"boolean\"}\n",
        "\n",
        "# Weights of pos vs neg labels for RandCropByPosNegLabeld\n",
        "pos = 1 #@param\n",
        "neg = 1 #@param\n",
        "\n",
        "train_transforms = Compose(\n",
        "    [\n",
        "        LoadImaged(keys=[\"image\", \"label\"]),\n",
        "        EnsureChannelFirstd(keys=[\"image\", \"label\"]),\n",
        "        Orientationd(keys=[\"image\", \"label\"], axcodes=\"RAS\"),\n",
        "        Spacingd(\n",
        "            keys=[\"image\", \"label\"],\n",
        "            pixdim=(.05, .05, .05),\n",
        "            mode=(\"bilinear\", \"nearest\"),),\n",
        "        ScaleIntensityRangePercentilesd(\n",
        "                keys=\"image\",\n",
        "                lower=10, upper=90, b_min=0, b_max=200,\n",
        "                clip=clip,\n",
        "                relative=relative,),\n",
        "        CropForegroundd(keys=[\"image\", \"label\"], source_key=\"image\"),\n",
        "        RandCropByPosNegLabeld(\n",
        "            keys=[\"image\", \"label\"],\n",
        "            label_key=\"label\",\n",
        "            spatial_size=(96, 96, 96),\n",
        "            pos=pos, # 1 to 1 ratio pos:neg applies equal weight; since binary problem, apply more weight to pos\n",
        "            neg=neg,\n",
        "            num_samples=4,\n",
        "            image_key=\"image\",\n",
        "            image_threshold=0,),\n",
        "    ]\n",
        ")\n",
        "val_transforms = Compose(\n",
        "    [\n",
        "        LoadImaged(keys=[\"image\", \"label\"]),\n",
        "        EnsureChannelFirstd(keys=[\"image\", \"label\"]),\n",
        "        Orientationd(keys=[\"image\", \"label\"], axcodes=\"RAS\"),\n",
        "        Spacingd(\n",
        "            keys=[\"image\", \"label\"],\n",
        "            pixdim=(.05, .05, .05),\n",
        "            mode=(\"bilinear\", \"nearest\"),),\n",
        "        ScaleIntensityRangePercentilesd(\n",
        "                keys=\"image\",\n",
        "                lower=10, upper=90, b_min=0, b_max=200,\n",
        "                clip=clip,\n",
        "                relative=relative,),\n",
        "        CropForegroundd(keys=[\"image\", \"label\"], source_key=\"image\"),\n",
        "    ]\n",
        ")"
      ]
    },
    {
      "cell_type": "code",
      "execution_count": 10,
      "metadata": {
        "colab": {
          "base_uri": "https://localhost:8080/"
        },
        "id": "yESVL-6zIOLm",
        "outputId": "c8692647-57b1-4b71-a657-301cee9c4763"
      },
      "outputs": [
        {
          "output_type": "stream",
          "name": "stderr",
          "text": [
            "\rLoading dataset:   0%|          | 0/14 [00:00<?, ?it/s]/usr/local/lib/python3.11/dist-packages/monai/transforms/intensity/array.py:1000: Warning: Divide by zero (a_min == a_max)\n",
            "  warn(\"Divide by zero (a_min == a_max)\", Warning)\n",
            "Loading dataset: 100%|██████████| 14/14 [01:49<00:00,  7.79s/it]\n",
            "Loading dataset: 100%|██████████| 3/3 [00:29<00:00,  9.76s/it]\n"
          ]
        },
        {
          "output_type": "stream",
          "name": "stdout",
          "text": [
            "\n",
            "\n",
            "Sample Validation image shape after transform: torch.Size([1, 1, 173, 232, 285]), label shape: torch.Size([1, 1, 173, 232, 285])\n",
            "\n",
            "\n",
            "Sample Train image shape after transform: torch.Size([4, 1, 96, 96, 96]), label shape: torch.Size([4, 1, 96, 96, 96])\n"
          ]
        }
      ],
      "source": [
        "#@title Transform datasets and read into cache for training\n",
        "\n",
        "# Train Dataset\n",
        "train_ds = CacheDataset(data=train_files, transform=train_transforms, cache_num=num_train, cache_rate=1.0, num_workers=8)\n",
        "train_loader = DataLoader(train_ds, batch_size=1, shuffle=True, num_workers=6, pin_memory=True)\n",
        "\n",
        "# Validation Dataset\n",
        "val_ds = CacheDataset(data=val_files, transform=val_transforms, cache_num=num_val, cache_rate=1.0, num_workers=8)\n",
        "val_loader = DataLoader(val_ds, batch_size=1, shuffle=False, num_workers=4, pin_memory=True)\n",
        "\n",
        "print(\"\\n\\nSample Validation image shape after transform: {}, label shape: {}\".format(first(val_loader)['image'].shape, first(val_loader)['label'].shape))\n",
        "print(\"\\n\\nSample Train image shape after transform: {}, label shape: {}\".format(first(train_loader)['image'].shape, first(train_loader)['label'].shape))"
      ]
    },
    {
      "cell_type": "code",
      "execution_count": 11,
      "metadata": {
        "id": "mKWK0qdE5U2T"
      },
      "outputs": [],
      "source": [
        "#@title Inspect image and labels after transformation\n",
        "import nibabel as nib\n",
        "\n",
        "# Coordinate system (for Nifti it's RAS)\n",
        "axcodes = \"RAS\" # @param [\"RAS\",\"PLI\",\"LPS\"] {\"allow-input\":true}\n",
        "\n",
        "# Check transformed image shape and loading\n",
        "load_transform = Compose(\n",
        "    [\n",
        "        LoadImaged(keys=[\"image\", \"label\"]),\n",
        "        EnsureChannelFirstd(keys=[\"image\", \"label\"]),\n",
        "        CropForegroundd(keys=[\"image\", \"label\"], source_key=\"image\"),\n",
        "        Orientationd(keys=[\"image\", \"label\"], axcodes=\"RAS\"),\n",
        "        Spacingd(\n",
        "            keys=[\"image\", \"label\"],\n",
        "            pixdim=(.05, .05, .05),\n",
        "            mode=(\"bilinear\")),\n",
        "        ])"
      ]
    },
    {
      "cell_type": "code",
      "execution_count": 12,
      "metadata": {
        "id": "m7tdpDzH5W07",
        "colab": {
          "base_uri": "https://localhost:8080/",
          "height": 491
        },
        "outputId": "4ad0493f-3564-44b0-e8e1-0a340dd374e6"
      },
      "outputs": [
        {
          "output_type": "stream",
          "name": "stdout",
          "text": [
            "Visualizing image transforms for: thecac_fbg_rph_220622_15_masked.nii.gz ...\n",
            "\n",
            "Original image shape:  torch.Size([1, 224, 242, 268])\n",
            "Original label shape:  torch.Size([1, 224, 242, 268])\n",
            "Transformed image shape:  torch.Size([1, 223, 242, 268])\n",
            "Transformed label shape:  torch.Size([1, 223, 242, 268])\n"
          ]
        },
        {
          "output_type": "display_data",
          "data": {
            "text/plain": [
              "<Figure size 2200x600 with 4 Axes>"
            ],
            "image/png": "[encoded data removed]"
          },
          "metadata": {}
        }
      ],
      "source": [
        "#@title Set val image index and slice number to visualize\n",
        "\n",
        "img_idx = 2 # @param {\"type\":\"slider\",\"min\":0,\"max\":2,\"step\":1}\n",
        "slice_num = 148 # @param {\"type\":\"slider\",\"min\":0,\"max\":500,\"step\":1}\n",
        "\n",
        "with torch.no_grad():\n",
        "    # Check an image from the val dataset\n",
        "    img_name = os.path.split(val_ds[img_idx]['image'].meta[\"filename_or_obj\"])[1]\n",
        "    print(\"Visualizing image transforms for: {} ...\\n\".format(img_name))\n",
        "\n",
        "    # Get original image and label info\n",
        "    img_path = data_root + '/val/images/' + img_name\n",
        "    # Workaround for _crop in image filenames not in labels\n",
        "    if '_crop' in img_name:\n",
        "        img_name = str.split(img_name, '_crop')[0]\n",
        "    idx = find_dict_idx_by_val(val_files, 'image', img_name)\n",
        "    orig_data = load_transform(val_files[idx])\n",
        "    orig_img = orig_data[\"image\"]\n",
        "    print(\"Original image shape: \", orig_img.shape)\n",
        "    orig_label = orig_data[\"label\"]\n",
        "    print(\"Original label shape: \", orig_label.shape)\n",
        "\n",
        "    # Get transformed image and label info\n",
        "    img = val_ds[img_idx][\"image\"]\n",
        "    label = val_ds[img_idx][\"label\"]\n",
        "    print(\"Transformed image shape: \", img.shape)\n",
        "    print(\"Transformed label shape: \", label.shape)\n",
        "\n",
        "    # Plot images\n",
        "    plt.figure(\"Orig vs Transformed\", (22, 6))\n",
        "    plt.subplot(1, 4, 1)\n",
        "    plt.title(\"original image\")\n",
        "    plt.imshow(orig_img.numpy()[0, :, :, slice_num], cmap='gray')\n",
        "    plt.subplot(1, 4, 2)\n",
        "    plt.title(\"original label\")\n",
        "    plt.imshow(orig_label.numpy()[0, :, :, slice_num], cmap='gray')\n",
        "    plt.subplot(1, 4, 3)\n",
        "    plt.title(\"transformed image\")\n",
        "    plt.imshow(img.cpu().numpy()[0, :, :, slice_num], cmap=\"gray\")\n",
        "    plt.subplot(1, 4, 4)\n",
        "    plt.title(\"transformed label\")\n",
        "    plt.imshow(label.cpu().numpy()[0, :, :, slice_num])\n",
        "\n",
        "    plt.show()"
      ]
    },
    {
      "cell_type": "markdown",
      "metadata": {
        "id": "2qNz4c-a16kn"
      },
      "source": [
        "## Train"
      ]
    },
    {
      "cell_type": "code",
      "execution_count": 13,
      "metadata": {
        "id": "T3YicbXZPFOL"
      },
      "outputs": [],
      "source": [
        "#@title Set model parameters\n",
        "\n",
        "# Use cuda GPU if available, else use CPU\n",
        "device = torch.device(\"cuda\" if torch.cuda.is_available() else \"cpu\")\n",
        "\n",
        "# How many epochs to train for and how often to evaluate model performance\n",
        "max_iterations = 500 #@param\n",
        "eval_num = 20 #@param\n",
        "\n",
        "# Parameters\n",
        "out_channels = 1 #@param\n",
        "img_size = 96 #@param\n",
        "feature_size = 32 # @param [\"16\",\"32\",\"48\",\"64\",\"70\",\"96\"] {\"type\":\"raw\"}\n",
        "hidden_size = 768 #@param\n",
        "mlp_dim = 3072 #@param\n",
        "num_heads = 12 #@param\n",
        "norm_name = \"instance\" # @param [\"instance\",\"batch\"]\n",
        "res_block = True # @param {\"type\":\"boolean\"}\n",
        "conv_block = True # @param {\"type\":\"boolean\"}\n",
        "dropout_rate = 0.0 #@param\n",
        "pos_embed = \"perceptron\" # @param [\"conv\",\"perceptron\"]\n",
        "\n",
        "# Define the model\n",
        "model = UNETR(\n",
        "    in_channels=1,\n",
        "    out_channels=out_channels,\n",
        "    img_size=(img_size, img_size, img_size),\n",
        "    feature_size=feature_size,\n",
        "    hidden_size=hidden_size,\n",
        "    mlp_dim=mlp_dim,\n",
        "    num_heads=num_heads,\n",
        "    norm_name=norm_name,\n",
        "    conv_block=conv_block,\n",
        "    res_block=res_block,\n",
        "    dropout_rate=dropout_rate,\n",
        "    proj_type=pos_embed,\n",
        ").to(device)\n",
        "\n",
        "# Get model architecture info for pubs, etc\n",
        "#print(len(model.model))\n",
        "#print(model)\n",
        "\n",
        "# Define the loss function\n",
        "if out_channels > 1:\n",
        "    loss_function = DiceCELoss(to_onehot_y=True, softmax=True)\n",
        "else:\n",
        "    loss_function = DiceCELoss(include_background=False, sigmoid=True)\n",
        "\n",
        "# Algorithmically optimize GPU training and speed things up, could be variable for val images since size varies\n",
        "torch.backends.cudnn.benchmark = True #@param\n",
        "\n",
        "# Set optimizer parameters\n",
        "optimizer = \"AdamW\" # @param [\"AdamW\",\"Novograd\"] {\"allow-input\":true}\n",
        "lr = 0.8e-6 # @param [\"1.5e-3\",\"1e-3\"] {\"type\":\"raw\",\"allow-input\":true}\n",
        "weight_decay = 2e-3 # @param [\"1e-2\",\"0\",\"1e-3\",\"1e-4\",\"1e-1\"] {\"type\":\"raw\",\"allow-input\":true}\n",
        "amsgrad = False # @param {\"type\":\"boolean\"}\n",
        "if \"Adam\" in optimizer:\n",
        "    optimizer = torch.optim.AdamW(model.parameters(), lr=lr, weight_decay=weight_decay, amsgrad=amsgrad)\n",
        "else:\n",
        "    optimizer = Novograd(model.parameters(), lr=lr, weight_decay=weight_decay, amsgrad=amsgrad)"
      ]
    },
    {
      "cell_type": "code",
      "execution_count": 15,
      "metadata": {
        "id": "tY0uFV-RSFHH",
        "colab": {
          "base_uri": "https://localhost:8080/",
          "height": 578
        },
        "outputId": "03f9e233-3585-4db0-8bbd-477c2c706d42"
      },
      "outputs": [
        {
          "output_type": "stream",
          "name": "stderr",
          "text": [
            "\rComputing optimal learning rate:   0%|          | 0/20 [00:00<?, ?it/s]/usr/local/lib/python3.11/dist-packages/monai/losses/dice.py:175: UserWarning: single channel prediction, `include_background=False` ignored.\n",
            "  warnings.warn(\"single channel prediction, `include_background=False` ignored.\")\n",
            "Computing optimal learning rate:  50%|█████     | 10/20 [00:16<00:16,  1.69s/it]\n"
          ]
        },
        {
          "output_type": "stream",
          "name": "stdout",
          "text": [
            "Stopping early, the loss has diverged\n",
            "Resetting model and optimizer\n"
          ]
        },
        {
          "output_type": "display_data",
          "data": {
            "text/plain": [
              "<Figure size 640x480 with 1 Axes>"
            ],
            "image/png": "[encoded data removed]"
          },
          "metadata": {}
        },
        {
          "output_type": "stream",
          "name": "stdout",
          "text": [
            "Steepest gradient found at:  (4.2813323987193935e-06, 1.3689554077386856)\n"
          ]
        }
      ],
      "source": [
        "#@title Find optimal learning rate based on model parameters\n",
        "from monai.optimizers import LearningRateFinder\n",
        "\n",
        "# Define lower and upper learning rates to inspect\n",
        "lower_lr, upper_lr = 1e-6, 1\n",
        "# Add lower_lr to optimizer\n",
        "#optimizer = Novograd(model.parameters(), lr=lower_lr, weight_decay=weight_decay, amsgrad=amsgrad)\n",
        "optimizer = torch.optim.AdamW(model.parameters(), lr=lower_lr, weight_decay=weight_decay, amsgrad=amsgrad)\n",
        "\n",
        "# Find optimal learning rate\n",
        "criterion = loss_function\n",
        "optimizer = optimizer\n",
        "lr_finder = LearningRateFinder(model, optimizer, criterion)\n",
        "lr_finder.range_test(train_loader, end_lr=upper_lr, num_iter=20)\n",
        "lr_finder.get_steepest_gradient()\n",
        "lr_finder.plot(log_lr=False)\n",
        "\n",
        "print(\"Steepest gradient found at: \", lr_finder.get_steepest_gradient())"
      ]
    },
    {
      "cell_type": "code",
      "execution_count": 16,
      "metadata": {
        "cellView": "code",
        "id": "CEgz2a6ePFOM",
        "scrolled": true,
        "colab": {
          "base_uri": "https://localhost:8080/"
        },
        "outputId": "1e879a4c-6f53-4257-f2a3-f56d13ca3d8c"
      },
      "outputs": [
        {
          "output_type": "stream",
          "name": "stdout",
          "text": [
            "Saving trained model results to:  /content/drive/MyDrive/Miami_21/project/manuscripts/CV_for_flower_CT/analysis/data/results/saved_models/134.pth\n"
          ]
        },
        {
          "output_type": "stream",
          "name": "stderr",
          "text": [
            "Training (13 / 500 Steps) (loss=1.85878): 100%|██████████| 14/14 [00:06<00:00,  2.24it/s]\n",
            "Training (20 / 500 Steps) (loss=1.70676):  43%|████▎     | 6/14 [00:03<00:03,  2.43it/s]\n",
            "Validate (X / X Steps) (dice=X.X):   0%|          | 0/3 [00:00<?, ?it/s]\u001b[A\n",
            "Validate (14 / 10 Steps):   0%|          | 0/3 [00:01<?, ?it/s]         \u001b[A\n",
            "Validate (14 / 10 Steps):  33%|███▎      | 1/3 [00:01<00:03,  1.70s/it]\u001b[A\n",
            "Validate (14 / 10 Steps):  33%|███▎      | 1/3 [00:02<00:03,  1.70s/it]\u001b[A\n",
            "Validate (14 / 10 Steps):  67%|██████▋   | 2/3 [00:02<00:01,  1.19s/it]\u001b[A\n",
            "Validate (14 / 10 Steps):  67%|██████▋   | 2/3 [00:03<00:01,  1.19s/it]\u001b[A\n",
            "Validate (14 / 10 Steps): 100%|██████████| 3/3 [00:03<00:00,  1.24s/it]\n",
            "Training (20 / 500 Steps) (loss=1.70676):  50%|█████     | 7/14 [00:08<00:14,  2.04s/it]"
          ]
        },
        {
          "output_type": "stream",
          "name": "stdout",
          "text": [
            "\u001b[32m Model Was Saved ! Current Best Avg. Dice: 0.016458502039313316 Current Avg. Dice: 0.016458502039313316\u001b[0m\n"
          ]
        },
        {
          "output_type": "stream",
          "name": "stderr",
          "text": [
            "Training (27 / 500 Steps) (loss=1.62618): 100%|██████████| 14/14 [00:11<00:00,  1.26it/s]\n",
            "Training (40 / 500 Steps) (loss=1.65750):  86%|████████▌ | 12/14 [00:05<00:00,  2.81it/s] \n",
            "Validate (X / X Steps) (dice=X.X):   0%|          | 0/3 [00:00<?, ?it/s]\u001b[A\n",
            "Validate (28 / 10 Steps):   0%|          | 0/3 [00:01<?, ?it/s]         \u001b[A\n",
            "Validate (28 / 10 Steps):  33%|███▎      | 1/3 [00:01<00:02,  1.33s/it]\u001b[A\n",
            "Validate (28 / 10 Steps):  33%|███▎      | 1/3 [00:02<00:02,  1.33s/it]\u001b[A\n",
            "Validate (28 / 10 Steps):  67%|██████▋   | 2/3 [00:02<00:01,  1.04s/it]\u001b[A\n",
            "Validate (28 / 10 Steps):  67%|██████▋   | 2/3 [00:03<00:01,  1.04s/it]\u001b[A\n",
            "Validate (28 / 10 Steps): 100%|██████████| 3/3 [00:03<00:00,  1.15s/it]\n",
            "Training (40 / 500 Steps) (loss=1.65750):  93%|█████████▎| 13/14 [00:10<00:01,  1.90s/it]"
          ]
        },
        {
          "output_type": "stream",
          "name": "stdout",
          "text": [
            "\u001b[32m Model Was Saved ! Current Best Avg. Dice: 0.01832663267850876 Current Avg. Dice: 0.01832663267850876\u001b[0m\n"
          ]
        },
        {
          "output_type": "stream",
          "name": "stderr",
          "text": [
            "Training (41 / 500 Steps) (loss=1.85072): 100%|██████████| 14/14 [00:11<00:00,  1.24it/s]\n",
            "Training (55 / 500 Steps) (loss=1.68913): 100%|██████████| 14/14 [00:06<00:00,  2.25it/s]\n",
            "Training (60 / 500 Steps) (loss=1.70704):  29%|██▊       | 4/14 [00:02<00:04,  2.07it/s]\n",
            "Validate (X / X Steps) (dice=X.X):   0%|          | 0/3 [00:00<?, ?it/s]\u001b[A\n",
            "Validate (56 / 10 Steps):   0%|          | 0/3 [00:01<?, ?it/s]         \u001b[A\n",
            "Validate (56 / 10 Steps):  33%|███▎      | 1/3 [00:01<00:02,  1.35s/it]\u001b[A\n",
            "Validate (56 / 10 Steps):  33%|███▎      | 1/3 [00:02<00:02,  1.35s/it]\u001b[A\n",
            "Validate (56 / 10 Steps):  67%|██████▋   | 2/3 [00:02<00:01,  1.06s/it]\u001b[A\n",
            "Validate (56 / 10 Steps):  67%|██████▋   | 2/3 [00:03<00:01,  1.06s/it]\u001b[A\n",
            "Validate (56 / 10 Steps): 100%|██████████| 3/3 [00:03<00:00,  1.15s/it]\n",
            "Training (60 / 500 Steps) (loss=1.70704):  36%|███▌      | 5/14 [00:07<00:19,  2.17s/it]"
          ]
        },
        {
          "output_type": "stream",
          "name": "stdout",
          "text": [
            "\u001b[32m Model Was Saved ! Current Best Avg. Dice: 0.020653076469898224 Current Avg. Dice: 0.020653076469898224\u001b[0m\n"
          ]
        },
        {
          "output_type": "stream",
          "name": "stderr",
          "text": [
            "Training (69 / 500 Steps) (loss=1.76254): 100%|██████████| 14/14 [00:10<00:00,  1.30it/s]\n",
            "Training (80 / 500 Steps) (loss=-12.96636):  71%|███████▏  | 10/14 [00:04<00:01,  2.76it/s]\n",
            "Validate (X / X Steps) (dice=X.X):   0%|          | 0/3 [00:00<?, ?it/s]\u001b[A\n",
            "Validate (70 / 10 Steps):   0%|          | 0/3 [00:01<?, ?it/s]         \u001b[A\n",
            "Validate (70 / 10 Steps):  33%|███▎      | 1/3 [00:01<00:02,  1.33s/it]\u001b[A\n",
            "Validate (70 / 10 Steps):  33%|███▎      | 1/3 [00:02<00:02,  1.33s/it]\u001b[A\n",
            "Validate (70 / 10 Steps):  67%|██████▋   | 2/3 [00:02<00:01,  1.06s/it]\u001b[A\n",
            "Validate (70 / 10 Steps):  67%|██████▋   | 2/3 [00:03<00:01,  1.06s/it]\u001b[A\n",
            "Validate (70 / 10 Steps): 100%|██████████| 3/3 [00:03<00:00,  1.14s/it]\n",
            "Training (80 / 500 Steps) (loss=-12.96636):  79%|███████▊  | 11/14 [00:09<00:05,  1.81s/it]"
          ]
        },
        {
          "output_type": "stream",
          "name": "stdout",
          "text": [
            "\u001b[32m Model Was Saved ! Current Best Avg. Dice: 0.02295764535665512 Current Avg. Dice: 0.02295764535665512\u001b[0m\n"
          ]
        },
        {
          "output_type": "stream",
          "name": "stderr",
          "text": [
            "Training (83 / 500 Steps) (loss=1.56284): 100%|██████████| 14/14 [00:10<00:00,  1.29it/s]\n",
            "Training (97 / 500 Steps) (loss=1.77831): 100%|██████████| 14/14 [00:06<00:00,  2.32it/s]\n",
            "Training (100 / 500 Steps) (loss=1.70613):  14%|█▍        | 2/14 [00:02<00:09,  1.23it/s] \n",
            "Validate (X / X Steps) (dice=X.X):   0%|          | 0/3 [00:00<?, ?it/s]\u001b[A\n",
            "Validate (98 / 10 Steps):   0%|          | 0/3 [00:01<?, ?it/s]         \u001b[A\n",
            "Validate (98 / 10 Steps):  33%|███▎      | 1/3 [00:01<00:02,  1.39s/it]\u001b[A\n",
            "Validate (98 / 10 Steps):  33%|███▎      | 1/3 [00:02<00:02,  1.39s/it]\u001b[A\n",
            "Validate (98 / 10 Steps):  67%|██████▋   | 2/3 [00:02<00:01,  1.06s/it]\u001b[A\n",
            "Validate (98 / 10 Steps):  67%|██████▋   | 2/3 [00:03<00:01,  1.06s/it]\u001b[A\n",
            "Validate (98 / 10 Steps): 100%|██████████| 3/3 [00:03<00:00,  1.17s/it]\n",
            "Training (100 / 500 Steps) (loss=1.70613):  21%|██▏       | 3/14 [00:06<00:30,  2.79s/it]"
          ]
        },
        {
          "output_type": "stream",
          "name": "stdout",
          "text": [
            "\u001b[32m Model Was Saved ! Current Best Avg. Dice: 0.025548502802848816 Current Avg. Dice: 0.025548502802848816\u001b[0m\n"
          ]
        },
        {
          "output_type": "stream",
          "name": "stderr",
          "text": [
            "Training (111 / 500 Steps) (loss=1.39177): 100%|██████████| 14/14 [00:10<00:00,  1.28it/s]\n",
            "Training (120 / 500 Steps) (loss=1.69437):  57%|█████▋    | 8/14 [00:04<00:02,  2.51it/s]  \n",
            "Validate (X / X Steps) (dice=X.X):   0%|          | 0/3 [00:00<?, ?it/s]\u001b[A\n",
            "Validate (112 / 10 Steps):   0%|          | 0/3 [00:01<?, ?it/s]        \u001b[A\n",
            "Validate (112 / 10 Steps):  33%|███▎      | 1/3 [00:01<00:02,  1.37s/it]\u001b[A\n",
            "Validate (112 / 10 Steps):  33%|███▎      | 1/3 [00:02<00:02,  1.37s/it]\u001b[A\n",
            "Validate (112 / 10 Steps):  67%|██████▋   | 2/3 [00:02<00:01,  1.05s/it]\u001b[A\n",
            "Validate (112 / 10 Steps):  67%|██████▋   | 2/3 [00:03<00:01,  1.05s/it]\u001b[A\n",
            "Validate (112 / 10 Steps): 100%|██████████| 3/3 [00:03<00:00,  1.14s/it]\n",
            "Training (120 / 500 Steps) (loss=1.69437):  64%|██████▍   | 9/14 [00:09<00:09,  1.94s/it]"
          ]
        },
        {
          "output_type": "stream",
          "name": "stdout",
          "text": [
            "\u001b[32m Model Was Saved ! Current Best Avg. Dice: 0.0280790813267231 Current Avg. Dice: 0.0280790813267231\u001b[0m\n"
          ]
        },
        {
          "output_type": "stream",
          "name": "stderr",
          "text": [
            "Training (125 / 500 Steps) (loss=1.60212): 100%|██████████| 14/14 [00:11<00:00,  1.19it/s]\n",
            "Training (139 / 500 Steps) (loss=-15.31235): 100%|██████████| 14/14 [00:06<00:00,  2.26it/s]\n",
            "Training (140 / 500 Steps) (loss=2.56843):   0%|          | 0/14 [00:02<?, ?it/s]\n",
            "Validate (X / X Steps) (dice=X.X):   0%|          | 0/3 [00:00<?, ?it/s]\u001b[A\n",
            "Validate (140 / 10 Steps):   0%|          | 0/3 [00:01<?, ?it/s]        \u001b[A\n",
            "Validate (140 / 10 Steps):  33%|███▎      | 1/3 [00:01<00:02,  1.38s/it]\u001b[A\n",
            "Validate (140 / 10 Steps):  33%|███▎      | 1/3 [00:02<00:02,  1.38s/it]\u001b[A\n",
            "Validate (140 / 10 Steps):  67%|██████▋   | 2/3 [00:02<00:01,  1.09s/it]\u001b[A\n",
            "Validate (140 / 10 Steps):  67%|██████▋   | 2/3 [00:03<00:01,  1.09s/it]\u001b[A\n",
            "Validate (140 / 10 Steps): 100%|██████████| 3/3 [00:03<00:00,  1.17s/it]\n",
            "Training (140 / 500 Steps) (loss=2.56843):   7%|▋         | 1/14 [00:07<01:31,  7.06s/it]"
          ]
        },
        {
          "output_type": "stream",
          "name": "stdout",
          "text": [
            "\u001b[32m Model Was Saved ! Current Best Avg. Dice: 0.030713992193341255 Current Avg. Dice: 0.030713992193341255\u001b[0m\n"
          ]
        },
        {
          "output_type": "stream",
          "name": "stderr",
          "text": [
            "Training (153 / 500 Steps) (loss=1.37074): 100%|██████████| 14/14 [00:11<00:00,  1.19it/s]\n",
            "Training (160 / 500 Steps) (loss=1.57374):  43%|████▎     | 6/14 [00:03<00:03,  2.44it/s]\n",
            "Validate (X / X Steps) (dice=X.X):   0%|          | 0/3 [00:00<?, ?it/s]\u001b[A\n",
            "Validate (154 / 10 Steps):   0%|          | 0/3 [00:01<?, ?it/s]        \u001b[A\n",
            "Validate (154 / 10 Steps):  33%|███▎      | 1/3 [00:01<00:02,  1.34s/it]\u001b[A\n",
            "Validate (154 / 10 Steps):  33%|███▎      | 1/3 [00:02<00:02,  1.34s/it]\u001b[A\n",
            "Validate (154 / 10 Steps):  67%|██████▋   | 2/3 [00:02<00:01,  1.06s/it]\u001b[A\n",
            "Validate (154 / 10 Steps):  67%|██████▋   | 2/3 [00:03<00:01,  1.06s/it]\u001b[A\n",
            "Validate (154 / 10 Steps): 100%|██████████| 3/3 [00:03<00:00,  1.15s/it]\n",
            "Training (160 / 500 Steps) (loss=1.57374):  50%|█████     | 7/14 [00:08<00:13,  1.95s/it]"
          ]
        },
        {
          "output_type": "stream",
          "name": "stdout",
          "text": [
            "\u001b[32m Model Was Saved ! Current Best Avg. Dice: 0.0333150252699852 Current Avg. Dice: 0.0333150252699852\u001b[0m\n"
          ]
        },
        {
          "output_type": "stream",
          "name": "stderr",
          "text": [
            "Training (167 / 500 Steps) (loss=-9.93179): 100%|██████████| 14/14 [00:10<00:00,  1.29it/s]\n",
            "Training (180 / 500 Steps) (loss=-10.42881):  86%|████████▌ | 12/14 [00:05<00:00,  2.79it/s]\n",
            "Validate (X / X Steps) (dice=X.X):   0%|          | 0/3 [00:00<?, ?it/s]\u001b[A\n",
            "Validate (168 / 10 Steps):   0%|          | 0/3 [00:01<?, ?it/s]        \u001b[A\n",
            "Validate (168 / 10 Steps):  33%|███▎      | 1/3 [00:01<00:02,  1.34s/it]\u001b[A\n",
            "Validate (168 / 10 Steps):  33%|███▎      | 1/3 [00:02<00:02,  1.34s/it]\u001b[A\n",
            "Validate (168 / 10 Steps):  67%|██████▋   | 2/3 [00:02<00:01,  1.05s/it]\u001b[A\n",
            "Validate (168 / 10 Steps):  67%|██████▋   | 2/3 [00:03<00:01,  1.05s/it]\u001b[A\n",
            "Validate (168 / 10 Steps): 100%|██████████| 3/3 [00:03<00:00,  1.14s/it]\n",
            "Training (180 / 500 Steps) (loss=-10.42881):  93%|█████████▎| 13/14 [00:10<00:01,  1.87s/it]"
          ]
        },
        {
          "output_type": "stream",
          "name": "stdout",
          "text": [
            "\u001b[32m Model Was Saved ! Current Best Avg. Dice: 0.03566351905465126 Current Avg. Dice: 0.03566351905465126\u001b[0m\n"
          ]
        },
        {
          "output_type": "stream",
          "name": "stderr",
          "text": [
            "Training (181 / 500 Steps) (loss=1.62422): 100%|██████████| 14/14 [00:11<00:00,  1.26it/s]\n",
            "Training (195 / 500 Steps) (loss=1.60944): 100%|██████████| 14/14 [00:06<00:00,  2.32it/s]\n",
            "Training (200 / 500 Steps) (loss=1.66251):  29%|██▊       | 4/14 [00:02<00:05,  1.95it/s]\n",
            "Validate (X / X Steps) (dice=X.X):   0%|          | 0/3 [00:00<?, ?it/s]\u001b[A\n",
            "Validate (196 / 10 Steps):   0%|          | 0/3 [00:01<?, ?it/s]        \u001b[A\n",
            "Validate (196 / 10 Steps):  33%|███▎      | 1/3 [00:01<00:02,  1.41s/it]\u001b[A\n",
            "Validate (196 / 10 Steps):  33%|███▎      | 1/3 [00:02<00:02,  1.41s/it]\u001b[A\n",
            "Validate (196 / 10 Steps):  67%|██████▋   | 2/3 [00:02<00:01,  1.11s/it]\u001b[A\n",
            "Validate (196 / 10 Steps):  67%|██████▋   | 2/3 [00:03<00:01,  1.11s/it]\u001b[A\n",
            "Validate (196 / 10 Steps): 100%|██████████| 3/3 [00:03<00:00,  1.19s/it]\n",
            "Training (200 / 500 Steps) (loss=1.66251):  36%|███▌      | 5/14 [00:08<00:21,  2.35s/it]"
          ]
        },
        {
          "output_type": "stream",
          "name": "stdout",
          "text": [
            "\u001b[32m Model Was Saved ! Current Best Avg. Dice: 0.03773443400859833 Current Avg. Dice: 0.03773443400859833\u001b[0m\n"
          ]
        },
        {
          "output_type": "stream",
          "name": "stderr",
          "text": [
            "Training (209 / 500 Steps) (loss=-11.77961): 100%|██████████| 14/14 [00:11<00:00,  1.23it/s]\n",
            "Training (220 / 500 Steps) (loss=1.73397):  71%|███████▏  | 10/14 [00:05<00:01,  2.73it/s] \n",
            "Validate (X / X Steps) (dice=X.X):   0%|          | 0/3 [00:00<?, ?it/s]\u001b[A\n",
            "Validate (210 / 10 Steps):   0%|          | 0/3 [00:01<?, ?it/s]        \u001b[A\n",
            "Validate (210 / 10 Steps):  33%|███▎      | 1/3 [00:01<00:02,  1.42s/it]\u001b[A\n",
            "Validate (210 / 10 Steps):  33%|███▎      | 1/3 [00:02<00:02,  1.42s/it]\u001b[A\n",
            "Validate (210 / 10 Steps):  67%|██████▋   | 2/3 [00:02<00:01,  1.08s/it]\u001b[A\n",
            "Validate (210 / 10 Steps):  67%|██████▋   | 2/3 [00:03<00:01,  1.08s/it]\u001b[A\n",
            "Validate (210 / 10 Steps): 100%|██████████| 3/3 [00:03<00:00,  1.17s/it]\n",
            "Training (220 / 500 Steps) (loss=1.73397):  79%|███████▊  | 11/14 [00:10<00:05,  1.97s/it]"
          ]
        },
        {
          "output_type": "stream",
          "name": "stdout",
          "text": [
            "\u001b[32m Model Was Saved ! Current Best Avg. Dice: 0.04009339213371277 Current Avg. Dice: 0.04009339213371277\u001b[0m\n"
          ]
        },
        {
          "output_type": "stream",
          "name": "stderr",
          "text": [
            "Training (223 / 500 Steps) (loss=1.71303): 100%|██████████| 14/14 [00:11<00:00,  1.22it/s]\n",
            "Training (237 / 500 Steps) (loss=1.53064): 100%|██████████| 14/14 [00:06<00:00,  2.27it/s]\n",
            "Training (240 / 500 Steps) (loss=1.71254):  14%|█▍        | 2/14 [00:02<00:10,  1.16it/s] \n",
            "Validate (X / X Steps) (dice=X.X):   0%|          | 0/3 [00:00<?, ?it/s]\u001b[A\n",
            "Validate (238 / 10 Steps):   0%|          | 0/3 [00:01<?, ?it/s]        \u001b[A\n",
            "Validate (238 / 10 Steps):  33%|███▎      | 1/3 [00:01<00:02,  1.41s/it]\u001b[A\n",
            "Validate (238 / 10 Steps):  33%|███▎      | 1/3 [00:02<00:02,  1.41s/it]\u001b[A\n",
            "Validate (238 / 10 Steps):  67%|██████▋   | 2/3 [00:02<00:01,  1.07s/it]\u001b[A\n",
            "Validate (238 / 10 Steps):  67%|██████▋   | 2/3 [00:03<00:01,  1.07s/it]\u001b[A\n",
            "Validate (238 / 10 Steps): 100%|██████████| 3/3 [00:03<00:00,  1.16s/it]\n",
            "Training (240 / 500 Steps) (loss=1.71254):  21%|██▏       | 3/14 [00:07<00:32,  2.96s/it]"
          ]
        },
        {
          "output_type": "stream",
          "name": "stdout",
          "text": [
            "\u001b[32m Model Was Saved ! Current Best Avg. Dice: 0.042654700577259064 Current Avg. Dice: 0.042654700577259064\u001b[0m\n"
          ]
        },
        {
          "output_type": "stream",
          "name": "stderr",
          "text": [
            "Training (251 / 500 Steps) (loss=1.34422): 100%|██████████| 14/14 [00:11<00:00,  1.23it/s]\n",
            "Training (260 / 500 Steps) (loss=-8.04419):  57%|█████▋    | 8/14 [00:04<00:02,  2.57it/s]\n",
            "Validate (X / X Steps) (dice=X.X):   0%|          | 0/3 [00:00<?, ?it/s]\u001b[A\n",
            "Validate (252 / 10 Steps):   0%|          | 0/3 [00:01<?, ?it/s]        \u001b[A\n",
            "Validate (252 / 10 Steps):  33%|███▎      | 1/3 [00:01<00:02,  1.33s/it]\u001b[A\n",
            "Validate (252 / 10 Steps):  33%|███▎      | 1/3 [00:02<00:02,  1.33s/it]\u001b[A\n",
            "Validate (252 / 10 Steps):  67%|██████▋   | 2/3 [00:02<00:01,  1.04s/it]\u001b[A\n",
            "Validate (252 / 10 Steps):  67%|██████▋   | 2/3 [00:03<00:01,  1.04s/it]\u001b[A\n",
            "Validate (252 / 10 Steps): 100%|██████████| 3/3 [00:03<00:00,  1.14s/it]\n",
            "Training (260 / 500 Steps) (loss=-8.04419):  64%|██████▍   | 9/14 [00:09<00:09,  1.88s/it]"
          ]
        },
        {
          "output_type": "stream",
          "name": "stdout",
          "text": [
            "\u001b[32m Model Was Saved ! Current Best Avg. Dice: 0.04430880397558212 Current Avg. Dice: 0.04430880397558212\u001b[0m\n"
          ]
        },
        {
          "output_type": "stream",
          "name": "stderr",
          "text": [
            "Training (265 / 500 Steps) (loss=1.56784): 100%|██████████| 14/14 [00:11<00:00,  1.27it/s]\n",
            "Training (279 / 500 Steps) (loss=1.51972): 100%|██████████| 14/14 [00:06<00:00,  2.28it/s]\n",
            "Training (280 / 500 Steps) (loss=-18.62720):   0%|          | 0/14 [00:01<?, ?it/s]\n",
            "Validate (X / X Steps) (dice=X.X):   0%|          | 0/3 [00:00<?, ?it/s]\u001b[A\n",
            "Validate (280 / 10 Steps):   0%|          | 0/3 [00:01<?, ?it/s]        \u001b[A\n",
            "Validate (280 / 10 Steps):  33%|███▎      | 1/3 [00:01<00:02,  1.42s/it]\u001b[A\n",
            "Validate (280 / 10 Steps):  33%|███▎      | 1/3 [00:02<00:02,  1.42s/it]\u001b[A\n",
            "Validate (280 / 10 Steps):  67%|██████▋   | 2/3 [00:02<00:01,  1.07s/it]\u001b[A\n",
            "Validate (280 / 10 Steps):  67%|██████▋   | 2/3 [00:03<00:01,  1.07s/it]\u001b[A\n",
            "Validate (280 / 10 Steps): 100%|██████████| 3/3 [00:03<00:00,  1.18s/it]\n",
            "Training (280 / 500 Steps) (loss=-18.62720):   7%|▋         | 1/14 [00:06<01:26,  6.68s/it]"
          ]
        },
        {
          "output_type": "stream",
          "name": "stdout",
          "text": [
            "\u001b[32m Model Was Saved ! Current Best Avg. Dice: 0.04636699706315994 Current Avg. Dice: 0.04636699706315994\u001b[0m\n"
          ]
        },
        {
          "output_type": "stream",
          "name": "stderr",
          "text": [
            "Training (293 / 500 Steps) (loss=1.58975): 100%|██████████| 14/14 [00:11<00:00,  1.23it/s]\n",
            "Training (300 / 500 Steps) (loss=1.66672):  43%|████▎     | 6/14 [00:03<00:03,  2.41it/s]  \n",
            "Validate (X / X Steps) (dice=X.X):   0%|          | 0/3 [00:00<?, ?it/s]\u001b[A\n",
            "Validate (294 / 10 Steps):   0%|          | 0/3 [00:01<?, ?it/s]        \u001b[A\n",
            "Validate (294 / 10 Steps):  33%|███▎      | 1/3 [00:01<00:02,  1.35s/it]\u001b[A\n",
            "Validate (294 / 10 Steps):  33%|███▎      | 1/3 [00:02<00:02,  1.35s/it]\u001b[A\n",
            "Validate (294 / 10 Steps):  67%|██████▋   | 2/3 [00:02<00:01,  1.06s/it]\u001b[A\n",
            "Validate (294 / 10 Steps):  67%|██████▋   | 2/3 [00:03<00:01,  1.06s/it]\u001b[A\n",
            "Validate (294 / 10 Steps): 100%|██████████| 3/3 [00:03<00:00,  1.14s/it]\n",
            "Training (300 / 500 Steps) (loss=1.66672):  50%|█████     | 7/14 [00:08<00:14,  2.06s/it]"
          ]
        },
        {
          "output_type": "stream",
          "name": "stdout",
          "text": [
            "\u001b[32m Model Was Saved ! Current Best Avg. Dice: 0.04825262725353241 Current Avg. Dice: 0.04825262725353241\u001b[0m\n"
          ]
        },
        {
          "output_type": "stream",
          "name": "stderr",
          "text": [
            "Training (307 / 500 Steps) (loss=-10.69511): 100%|██████████| 14/14 [00:11<00:00,  1.24it/s]\n",
            "Training (320 / 500 Steps) (loss=1.62210):  86%|████████▌ | 12/14 [00:05<00:00,  2.79it/s]\n",
            "Validate (X / X Steps) (dice=X.X):   0%|          | 0/3 [00:00<?, ?it/s]\u001b[A\n",
            "Validate (308 / 10 Steps):   0%|          | 0/3 [00:01<?, ?it/s]        \u001b[A\n",
            "Validate (308 / 10 Steps):  33%|███▎      | 1/3 [00:01<00:02,  1.34s/it]\u001b[A\n",
            "Validate (308 / 10 Steps):  33%|███▎      | 1/3 [00:02<00:02,  1.34s/it]\u001b[A\n",
            "Validate (308 / 10 Steps):  67%|██████▋   | 2/3 [00:02<00:01,  1.04s/it]\u001b[A\n",
            "Validate (308 / 10 Steps):  67%|██████▋   | 2/3 [00:03<00:01,  1.04s/it]\u001b[A\n",
            "Validate (308 / 10 Steps): 100%|██████████| 3/3 [00:03<00:00,  1.13s/it]\n",
            "Training (320 / 500 Steps) (loss=1.62210):  93%|█████████▎| 13/14 [00:10<00:01,  1.88s/it]"
          ]
        },
        {
          "output_type": "stream",
          "name": "stdout",
          "text": [
            "\u001b[32m Model Was Saved ! Current Best Avg. Dice: 0.049454543739557266 Current Avg. Dice: 0.049454543739557266\u001b[0m\n"
          ]
        },
        {
          "output_type": "stream",
          "name": "stderr",
          "text": [
            "Training (321 / 500 Steps) (loss=-9.38600): 100%|██████████| 14/14 [00:11<00:00,  1.25it/s]\n",
            "Training (335 / 500 Steps) (loss=-13.71172): 100%|██████████| 14/14 [00:06<00:00,  2.25it/s]\n",
            "Training (340 / 500 Steps) (loss=1.55254):  29%|██▊       | 4/14 [00:02<00:05,  1.91it/s]\n",
            "Validate (X / X Steps) (dice=X.X):   0%|          | 0/3 [00:00<?, ?it/s]\u001b[A\n",
            "Validate (336 / 10 Steps):   0%|          | 0/3 [00:01<?, ?it/s]        \u001b[A\n",
            "Validate (336 / 10 Steps):  33%|███▎      | 1/3 [00:01<00:02,  1.38s/it]\u001b[A\n",
            "Validate (336 / 10 Steps):  33%|███▎      | 1/3 [00:02<00:02,  1.38s/it]\u001b[A\n",
            "Validate (336 / 10 Steps):  67%|██████▋   | 2/3 [00:02<00:01,  1.10s/it]\u001b[A\n",
            "Validate (336 / 10 Steps):  67%|██████▋   | 2/3 [00:03<00:01,  1.10s/it]\u001b[A\n",
            "Validate (336 / 10 Steps): 100%|██████████| 3/3 [00:03<00:00,  1.19s/it]\n",
            "Training (340 / 500 Steps) (loss=1.55254):  36%|███▌      | 5/14 [00:08<00:21,  2.35s/it]"
          ]
        },
        {
          "output_type": "stream",
          "name": "stdout",
          "text": [
            "\u001b[32m Model Was Saved ! Current Best Avg. Dice: 0.05091926455497742 Current Avg. Dice: 0.05091926455497742\u001b[0m\n"
          ]
        },
        {
          "output_type": "stream",
          "name": "stderr",
          "text": [
            "Training (349 / 500 Steps) (loss=1.70345): 100%|██████████| 14/14 [00:11<00:00,  1.22it/s]\n",
            "Training (360 / 500 Steps) (loss=1.76177):  71%|███████▏  | 10/14 [00:05<00:01,  2.74it/s]\n",
            "Validate (X / X Steps) (dice=X.X):   0%|          | 0/3 [00:00<?, ?it/s]\u001b[A\n",
            "Validate (350 / 10 Steps):   0%|          | 0/3 [00:01<?, ?it/s]        \u001b[A\n",
            "Validate (350 / 10 Steps):  33%|███▎      | 1/3 [00:01<00:02,  1.35s/it]\u001b[A\n",
            "Validate (350 / 10 Steps):  33%|███▎      | 1/3 [00:02<00:02,  1.35s/it]\u001b[A\n",
            "Validate (350 / 10 Steps):  67%|██████▋   | 2/3 [00:02<00:01,  1.06s/it]\u001b[A\n",
            "Validate (350 / 10 Steps):  67%|██████▋   | 2/3 [00:03<00:01,  1.06s/it]\u001b[A\n",
            "Validate (350 / 10 Steps): 100%|██████████| 3/3 [00:03<00:00,  1.15s/it]\n",
            "Training (360 / 500 Steps) (loss=1.76177):  79%|███████▊  | 11/14 [00:09<00:05,  1.83s/it]"
          ]
        },
        {
          "output_type": "stream",
          "name": "stdout",
          "text": [
            "\u001b[32m Model Was Saved ! Current Best Avg. Dice: 0.05229461193084717 Current Avg. Dice: 0.05229461193084717\u001b[0m\n"
          ]
        },
        {
          "output_type": "stream",
          "name": "stderr",
          "text": [
            "Training (363 / 500 Steps) (loss=-10.65031): 100%|██████████| 14/14 [00:11<00:00,  1.27it/s]\n",
            "Training (377 / 500 Steps) (loss=1.72070): 100%|██████████| 14/14 [00:06<00:00,  2.25it/s]\n",
            "Training (380 / 500 Steps) (loss=-24.14866):  14%|█▍        | 2/14 [00:02<00:10,  1.20it/s]\n",
            "Validate (X / X Steps) (dice=X.X):   0%|          | 0/3 [00:00<?, ?it/s]\u001b[A\n",
            "Validate (378 / 10 Steps):   0%|          | 0/3 [00:01<?, ?it/s]        \u001b[A\n",
            "Validate (378 / 10 Steps):  33%|███▎      | 1/3 [00:01<00:02,  1.42s/it]\u001b[A\n",
            "Validate (378 / 10 Steps):  33%|███▎      | 1/3 [00:02<00:02,  1.42s/it]\u001b[A\n",
            "Validate (378 / 10 Steps):  67%|██████▋   | 2/3 [00:02<00:01,  1.09s/it]\u001b[A\n",
            "Validate (378 / 10 Steps):  67%|██████▋   | 2/3 [00:03<00:01,  1.09s/it]\u001b[A\n",
            "Validate (378 / 10 Steps): 100%|██████████| 3/3 [00:03<00:00,  1.17s/it]\n",
            "Training (380 / 500 Steps) (loss=-24.14866):  21%|██▏       | 3/14 [00:07<00:32,  2.94s/it]"
          ]
        },
        {
          "output_type": "stream",
          "name": "stdout",
          "text": [
            "\u001b[32m Model Was Saved ! Current Best Avg. Dice: 0.0536385141313076 Current Avg. Dice: 0.0536385141313076\u001b[0m\n"
          ]
        },
        {
          "output_type": "stream",
          "name": "stderr",
          "text": [
            "Training (391 / 500 Steps) (loss=1.56509): 100%|██████████| 14/14 [00:11<00:00,  1.24it/s]\n",
            "Training (400 / 500 Steps) (loss=1.70247):  57%|█████▋    | 8/14 [00:04<00:02,  2.62it/s]\n",
            "Validate (X / X Steps) (dice=X.X):   0%|          | 0/3 [00:00<?, ?it/s]\u001b[A\n",
            "Validate (392 / 10 Steps):   0%|          | 0/3 [00:01<?, ?it/s]        \u001b[A\n",
            "Validate (392 / 10 Steps):  33%|███▎      | 1/3 [00:01<00:02,  1.35s/it]\u001b[A\n",
            "Validate (392 / 10 Steps):  33%|███▎      | 1/3 [00:02<00:02,  1.35s/it]\u001b[A\n",
            "Validate (392 / 10 Steps):  67%|██████▋   | 2/3 [00:02<00:01,  1.06s/it]\u001b[A\n",
            "Validate (392 / 10 Steps):  67%|██████▋   | 2/3 [00:03<00:01,  1.06s/it]\u001b[A\n",
            "Validate (392 / 10 Steps): 100%|██████████| 3/3 [00:03<00:00,  1.14s/it]\n",
            "Training (400 / 500 Steps) (loss=1.70247):  64%|██████▍   | 9/14 [00:09<00:09,  1.87s/it]"
          ]
        },
        {
          "output_type": "stream",
          "name": "stdout",
          "text": [
            "\u001b[32m Model Was Saved ! Current Best Avg. Dice: 0.055020615458488464 Current Avg. Dice: 0.055020615458488464\u001b[0m\n"
          ]
        },
        {
          "output_type": "stream",
          "name": "stderr",
          "text": [
            "Training (405 / 500 Steps) (loss=-20.10033): 100%|██████████| 14/14 [00:10<00:00,  1.27it/s]\n",
            "Training (419 / 500 Steps) (loss=1.71200): 100%|██████████| 14/14 [00:06<00:00,  2.27it/s]\n",
            "Training (420 / 500 Steps) (loss=-16.49471):   0%|          | 0/14 [00:01<?, ?it/s]\n",
            "Validate (X / X Steps) (dice=X.X):   0%|          | 0/3 [00:00<?, ?it/s]\u001b[A\n",
            "Validate (420 / 10 Steps):   0%|          | 0/3 [00:01<?, ?it/s]        \u001b[A\n",
            "Validate (420 / 10 Steps):  33%|███▎      | 1/3 [00:01<00:02,  1.40s/it]\u001b[A\n",
            "Validate (420 / 10 Steps):  33%|███▎      | 1/3 [00:02<00:02,  1.40s/it]\u001b[A\n",
            "Validate (420 / 10 Steps):  67%|██████▋   | 2/3 [00:02<00:01,  1.11s/it]\u001b[A\n",
            "Validate (420 / 10 Steps):  67%|██████▋   | 2/3 [00:03<00:01,  1.11s/it]\u001b[A\n",
            "Validate (420 / 10 Steps): 100%|██████████| 3/3 [00:03<00:00,  1.20s/it]\n",
            "Training (420 / 500 Steps) (loss=-16.49471):   7%|▋         | 1/14 [00:06<01:29,  6.88s/it]"
          ]
        },
        {
          "output_type": "stream",
          "name": "stdout",
          "text": [
            "\u001b[32m Model Was Saved ! Current Best Avg. Dice: 0.055936966091394424 Current Avg. Dice: 0.055936966091394424\u001b[0m\n"
          ]
        },
        {
          "output_type": "stream",
          "name": "stderr",
          "text": [
            "Training (433 / 500 Steps) (loss=1.66073): 100%|██████████| 14/14 [00:11<00:00,  1.21it/s]\n",
            "Training (440 / 500 Steps) (loss=1.70451):  43%|████▎     | 6/14 [00:03<00:03,  2.41it/s]  \n",
            "Validate (X / X Steps) (dice=X.X):   0%|          | 0/3 [00:00<?, ?it/s]\u001b[A\n",
            "Validate (434 / 10 Steps):   0%|          | 0/3 [00:01<?, ?it/s]        \u001b[A\n",
            "Validate (434 / 10 Steps):  33%|███▎      | 1/3 [00:01<00:02,  1.36s/it]\u001b[A\n",
            "Validate (434 / 10 Steps):  33%|███▎      | 1/3 [00:02<00:02,  1.36s/it]\u001b[A\n",
            "Validate (434 / 10 Steps):  67%|██████▋   | 2/3 [00:02<00:01,  1.06s/it]\u001b[A\n",
            "Validate (434 / 10 Steps):  67%|██████▋   | 2/3 [00:03<00:01,  1.06s/it]\u001b[A\n",
            "Validate (434 / 10 Steps): 100%|██████████| 3/3 [00:03<00:00,  1.15s/it]\n",
            "Training (440 / 500 Steps) (loss=1.70451):  50%|█████     | 7/14 [00:08<00:14,  2.06s/it]"
          ]
        },
        {
          "output_type": "stream",
          "name": "stdout",
          "text": [
            "\u001b[32m Model Was Saved ! Current Best Avg. Dice: 0.05690998211503029 Current Avg. Dice: 0.05690998211503029\u001b[0m\n"
          ]
        },
        {
          "output_type": "stream",
          "name": "stderr",
          "text": [
            "Training (447 / 500 Steps) (loss=1.63094): 100%|██████████| 14/14 [00:11<00:00,  1.24it/s]\n",
            "Training (460 / 500 Steps) (loss=-10.35005):  86%|████████▌ | 12/14 [00:05<00:00,  2.73it/s]\n",
            "Validate (X / X Steps) (dice=X.X):   0%|          | 0/3 [00:00<?, ?it/s]\u001b[A\n",
            "Validate (448 / 10 Steps):   0%|          | 0/3 [00:01<?, ?it/s]        \u001b[A\n",
            "Validate (448 / 10 Steps):  33%|███▎      | 1/3 [00:01<00:02,  1.40s/it]\u001b[A\n",
            "Validate (448 / 10 Steps):  33%|███▎      | 1/3 [00:02<00:02,  1.40s/it]\u001b[A\n",
            "Validate (448 / 10 Steps):  67%|██████▋   | 2/3 [00:02<00:01,  1.06s/it]\u001b[A\n",
            "Validate (448 / 10 Steps):  67%|██████▋   | 2/3 [00:03<00:01,  1.06s/it]\u001b[A\n",
            "Validate (448 / 10 Steps): 100%|██████████| 3/3 [00:03<00:00,  1.15s/it]\n",
            "Training (460 / 500 Steps) (loss=-10.35005):  93%|█████████▎| 13/14 [00:10<00:01,  1.88s/it]"
          ]
        },
        {
          "output_type": "stream",
          "name": "stdout",
          "text": [
            "\u001b[32m Model Was Saved ! Current Best Avg. Dice: 0.05781789869070053 Current Avg. Dice: 0.05781789869070053\u001b[0m\n"
          ]
        },
        {
          "output_type": "stream",
          "name": "stderr",
          "text": [
            "Training (461 / 500 Steps) (loss=1.41623): 100%|██████████| 14/14 [00:11<00:00,  1.22it/s]\n",
            "Training (475 / 500 Steps) (loss=1.72014): 100%|██████████| 14/14 [00:06<00:00,  2.18it/s]\n",
            "Training (480 / 500 Steps) (loss=1.59685):  29%|██▊       | 4/14 [00:02<00:04,  2.03it/s]  \n",
            "Validate (X / X Steps) (dice=X.X):   0%|          | 0/3 [00:00<?, ?it/s]\u001b[A\n",
            "Validate (476 / 10 Steps):   0%|          | 0/3 [00:01<?, ?it/s]        \u001b[A\n",
            "Validate (476 / 10 Steps):  33%|███▎      | 1/3 [00:01<00:02,  1.47s/it]\u001b[A\n",
            "Validate (476 / 10 Steps):  33%|███▎      | 1/3 [00:02<00:02,  1.47s/it]\u001b[A\n",
            "Validate (476 / 10 Steps):  67%|██████▋   | 2/3 [00:02<00:01,  1.12s/it]\u001b[A\n",
            "Validate (476 / 10 Steps):  67%|██████▋   | 2/3 [00:03<00:01,  1.12s/it]\u001b[A\n",
            "Validate (476 / 10 Steps): 100%|██████████| 3/3 [00:03<00:00,  1.20s/it]\n",
            "Training (480 / 500 Steps) (loss=1.59685):  36%|███▌      | 5/14 [00:08<00:20,  2.33s/it]"
          ]
        },
        {
          "output_type": "stream",
          "name": "stdout",
          "text": [
            "\u001b[32m Model Was Saved ! Current Best Avg. Dice: 0.058651480823755264 Current Avg. Dice: 0.058651480823755264\u001b[0m\n"
          ]
        },
        {
          "output_type": "stream",
          "name": "stderr",
          "text": [
            "Training (489 / 500 Steps) (loss=1.60193): 100%|██████████| 14/14 [00:11<00:00,  1.24it/s]\n",
            "Training (500 / 500 Steps) (loss=-17.13133):  71%|███████▏  | 10/14 [00:05<00:01,  2.72it/s]\n",
            "Validate (X / X Steps) (dice=X.X):   0%|          | 0/3 [00:00<?, ?it/s]\u001b[A\n",
            "Validate (490 / 10 Steps):   0%|          | 0/3 [00:01<?, ?it/s]        \u001b[A\n",
            "Validate (490 / 10 Steps):  33%|███▎      | 1/3 [00:01<00:02,  1.46s/it]\u001b[A\n",
            "Validate (490 / 10 Steps):  33%|███▎      | 1/3 [00:02<00:02,  1.46s/it]\u001b[A\n",
            "Validate (490 / 10 Steps):  67%|██████▋   | 2/3 [00:02<00:01,  1.11s/it]\u001b[A\n",
            "Validate (490 / 10 Steps):  67%|██████▋   | 2/3 [00:03<00:01,  1.11s/it]\u001b[A\n",
            "Validate (490 / 10 Steps): 100%|██████████| 3/3 [00:03<00:00,  1.19s/it]\n",
            "Training (500 / 500 Steps) (loss=-17.13133):  79%|███████▊  | 11/14 [00:09<00:05,  1.86s/it]"
          ]
        },
        {
          "output_type": "stream",
          "name": "stdout",
          "text": [
            "\u001b[32m Model Was Saved ! Current Best Avg. Dice: 0.05915713310241699 Current Avg. Dice: 0.05915713310241699\u001b[0m\n"
          ]
        },
        {
          "output_type": "stream",
          "name": "stderr",
          "text": [
            "Training (503 / 500 Steps) (loss=1.62646): 100%|██████████| 14/14 [00:11<00:00,  1.25it/s]\n"
          ]
        },
        {
          "output_type": "stream",
          "name": "stdout",
          "text": [
            "\n",
            "\n",
            "\n",
            " train completed, best_metric: 0.0592 at iteration: 500\n"
          ]
        }
      ],
      "source": [
        "#@title Train pipeline\n",
        "# Modified from : Copyright (c) MONAI Consortium and [Apache License, Version 2.0](http://www.apache.org/licenses/LICENSE-2.0)\n",
        "\n",
        "# Save each new training attempt results by name (TRAIN_SES_NUM)\n",
        "saved_models_dir = \"saved_models\" # @param [\"saved_models\"] {\"allow-input\":true}\n",
        "saved_model_path, TRAIN_SESS_NUM = set_saved_model_path(out_dir, saved_models_dir)\n",
        "\n",
        "def validation(epoch_iterator_val):\n",
        "    model.eval()\n",
        "    with torch.no_grad():\n",
        "        for batch in epoch_iterator_val:\n",
        "            val_inputs, val_labels = (batch[\"image\"].to(device), batch[\"label\"].to(device))\n",
        "            #print(\"\\nValidation input shape: \", val_inputs.shape)\n",
        "            #print(\"\\nValidation ground truth shape: \", val_labels.shape)\n",
        "            val_outputs = sliding_window_inference(val_inputs, roi_size=(img_size, img_size, img_size), sw_batch_size=4, predictor=model)\n",
        "            #print(\"\\nValidation output shape: \", val_outputs.shape)\n",
        "            val_labels_list = decollate_batch(val_labels)\n",
        "            val_labels_convert = [post_label(val_label_tensor) for val_label_tensor in val_labels_list]\n",
        "            val_outputs_list = decollate_batch(val_outputs)\n",
        "            val_output_convert = [post_pred(val_pred_tensor) for val_pred_tensor in val_outputs_list]\n",
        "            #print(\"Val output convert: \", val_output_convert)\n",
        "            #print(\"Val labels convert: \", val_labels_convert)\n",
        "            dice_metric(y_pred=val_output_convert, y=val_labels_convert)\n",
        "            epoch_iterator_val.set_description(\"Validate (%d / %d Steps)\" % (global_step, 10.0))  # noqa: B038\n",
        "        mean_dice_val = dice_metric.aggregate().item()\n",
        "        dice_metric.reset()\n",
        "    return mean_dice_val\n",
        "\n",
        "\n",
        "def train(global_step, train_loader, dice_val_best, global_step_best):\n",
        "    model.train()\n",
        "    epoch_loss = 0\n",
        "    step = 0\n",
        "    epoch_iterator = tqdm(train_loader, desc=\"Training (X / X Steps) (loss=X.X)\", dynamic_ncols=True)\n",
        "    for step, batch in enumerate(epoch_iterator):\n",
        "        step += 1\n",
        "        x, y = (batch[\"image\"].to(device), batch[\"label\"].to(device))\n",
        "        #print(\"\\nModel input shape: \", x.shape)\n",
        "        logit_map = model(x)\n",
        "        #print(\"\\nModel output shape: \", logit_map.shape)\n",
        "        #print(\"\\nGround truth shape: \", y.shape)\n",
        "        loss = loss_function(logit_map, y)\n",
        "        loss.backward()\n",
        "        epoch_loss += loss.item()\n",
        "        optimizer.step()\n",
        "        optimizer.zero_grad()\n",
        "        epoch_iterator.set_description(  # noqa: B038\n",
        "            \"Training (%d / %d Steps) (loss=%2.5f)\" % (global_step, max_iterations, loss)\n",
        "        )\n",
        "        if (global_step % eval_num == 0 and global_step != 0) or global_step == max_iterations:\n",
        "            epoch_iterator_val = tqdm(val_loader, desc=\"Validate (X / X Steps) (dice=X.X)\", dynamic_ncols=True)\n",
        "            dice_val = validation(epoch_iterator_val)\n",
        "            epoch_loss /= step\n",
        "            epoch_loss_values.append(epoch_loss)\n",
        "            metric_values.append(dice_val)\n",
        "            if dice_val > dice_val_best:\n",
        "                dice_val_best = dice_val\n",
        "                global_step_best = global_step\n",
        "                torch.save(model.state_dict(), saved_model_path)\n",
        "                print(\n",
        "                    \"\\033[32m Model Was Saved ! Current Best Avg. Dice: {} Current Avg. Dice: {}\\033[0m\".format(dice_val_best, dice_val)\n",
        "                )\n",
        "            else:\n",
        "                print(\n",
        "                    \"\\033[33mModel Was Not Saved ! Current Best Avg. Dice: {} Current Avg. Dice: {}\\033[0m\".format(\n",
        "                        dice_val_best, dice_val\n",
        "                    )\n",
        "                )\n",
        "        global_step += 1\n",
        "    return global_step, dice_val_best, global_step_best\n",
        "\n",
        "post_label = Compose([AsDiscrete(n_classes=out_channels)])\n",
        "post_pred = Compose([Activations(sigmoid=True), AsDiscrete(threshold=0.5)])\n",
        "dice_metric = DiceMetric(include_background=False, reduction=\"mean\")\n",
        "global_step = 0\n",
        "dice_val_best = -0.1\n",
        "global_step_best = 0\n",
        "epoch_loss_values = []\n",
        "metric_values = []\n",
        "while global_step < max_iterations:\n",
        "    global_step, dice_val_best, global_step_best = train(global_step, train_loader, dice_val_best, global_step_best)\n",
        "model.load_state_dict(torch.load(os.path.join(saved_models_dir, saved_model_path)))\n",
        "\n",
        "print(f\"\\n\\n\\n train completed, best_metric: {dice_val_best:.4f} \" f\"at iteration: {global_step_best}\")"
      ]
    },
    {
      "cell_type": "code",
      "execution_count": 17,
      "metadata": {
        "id": "4_urTaCYTOg-",
        "colab": {
          "base_uri": "https://localhost:8080/"
        },
        "outputId": "19e64a6d-f693-4def-b0fe-4d689387866c"
      },
      "outputs": [
        {
          "output_type": "stream",
          "name": "stdout",
          "text": [
            "/content/drive/MyDrive/Colab Notebooks\n",
            "[NbConvertApp] WARNING | pattern '/content/drive/MyDrive/Colab Notebooks/Cacao_Whole_Flower_Seg_unetr.ipynb' matched no files\n",
            "[NbConvertApp] Making directory /content/drive/MyDrive/Miami_21/project/manuscripts/CV_for_flower_CT/analysis/data/results/train_notebooks/134\n",
            "This application is used to convert notebook files (*.ipynb)\n",
            "        to various other formats.\n",
            "\n",
            "        WARNING: THE COMMANDLINE INTERFACE MAY CHANGE IN FUTURE RELEASES.\n",
            "\n",
            "Options\n",
            "=======\n",
            "The options below are convenience aliases to configurable class-options,\n",
            "as listed in the \"Equivalent to\" description-line of the aliases.\n",
            "To see all configurable class-options for some <cmd>, use:\n",
            "    <cmd> --help-all\n",
            "\n",
            "--debug\n",
            "    set log level to logging.DEBUG (maximize logging output)\n",
            "    Equivalent to: [--Application.log_level=10]\n",
            "--show-config\n",
            "    Show the application's configuration (human-readable format)\n",
            "    Equivalent to: [--Application.show_config=True]\n",
            "--show-config-json\n",
            "    Show the application's configuration (json format)\n",
            "    Equivalent to: [--Application.show_config_json=True]\n",
            "--generate-config\n",
            "    generate default config file\n",
            "    Equivalent to: [--JupyterApp.generate_config=True]\n",
            "-y\n",
            "    Answer yes to any questions instead of prompting.\n",
            "    Equivalent to: [--JupyterApp.answer_yes=True]\n",
            "--execute\n",
            "    Execute the notebook prior to export.\n",
            "    Equivalent to: [--ExecutePreprocessor.enabled=True]\n",
            "--allow-errors\n",
            "    Continue notebook execution even if one of the cells throws an error and include the error message in the cell output (the default behaviour is to abort conversion). This flag is only relevant if '--execute' was specified, too.\n",
            "    Equivalent to: [--ExecutePreprocessor.allow_errors=True]\n",
            "--stdin\n",
            "    read a single notebook file from stdin. Write the resulting notebook with default basename 'notebook.*'\n",
            "    Equivalent to: [--NbConvertApp.from_stdin=True]\n",
            "--stdout\n",
            "    Write notebook output to stdout instead of files.\n",
            "    Equivalent to: [--NbConvertApp.writer_class=StdoutWriter]\n",
            "--inplace\n",
            "    Run nbconvert in place, overwriting the existing notebook (only\n",
            "            relevant when converting to notebook format)\n",
            "    Equivalent to: [--NbConvertApp.use_output_suffix=False --NbConvertApp.export_format=notebook --FilesWriter.build_directory=]\n",
            "--clear-output\n",
            "    Clear output of current file and save in place,\n",
            "            overwriting the existing notebook.\n",
            "    Equivalent to: [--NbConvertApp.use_output_suffix=False --NbConvertApp.export_format=notebook --FilesWriter.build_directory= --ClearOutputPreprocessor.enabled=True]\n",
            "--coalesce-streams\n",
            "    Coalesce consecutive stdout and stderr outputs into one stream (within each cell).\n",
            "    Equivalent to: [--NbConvertApp.use_output_suffix=False --NbConvertApp.export_format=notebook --FilesWriter.build_directory= --CoalesceStreamsPreprocessor.enabled=True]\n",
            "--no-prompt\n",
            "    Exclude input and output prompts from converted document.\n",
            "    Equivalent to: [--TemplateExporter.exclude_input_prompt=True --TemplateExporter.exclude_output_prompt=True]\n",
            "--no-input\n",
            "    Exclude input cells and output prompts from converted document.\n",
            "            This mode is ideal for generating code-free reports.\n",
            "    Equivalent to: [--TemplateExporter.exclude_output_prompt=True --TemplateExporter.exclude_input=True --TemplateExporter.exclude_input_prompt=True]\n",
            "--allow-chromium-download\n",
            "    Whether to allow downloading chromium if no suitable version is found on the system.\n",
            "    Equivalent to: [--WebPDFExporter.allow_chromium_download=True]\n",
            "--disable-chromium-sandbox\n",
            "    Disable chromium security sandbox when converting to PDF..\n",
            "    Equivalent to: [--WebPDFExporter.disable_sandbox=True]\n",
            "--show-input\n",
            "    Shows code input. This flag is only useful for dejavu users.\n",
            "    Equivalent to: [--TemplateExporter.exclude_input=False]\n",
            "--embed-images\n",
            "    Embed the images as base64 dataurls in the output. This flag is only useful for the HTML/WebPDF/Slides exports.\n",
            "    Equivalent to: [--HTMLExporter.embed_images=True]\n",
            "--sanitize-html\n",
            "    Whether the HTML in Markdown cells and cell outputs should be sanitized..\n",
            "    Equivalent to: [--HTMLExporter.sanitize_html=True]\n",
            "--log-level=<Enum>\n",
            "    Set the log level by value or name.\n",
            "    Choices: any of [0, 10, 20, 30, 40, 50, 'DEBUG', 'INFO', 'WARN', 'ERROR', 'CRITICAL']\n",
            "    Default: 30\n",
            "    Equivalent to: [--Application.log_level]\n",
            "--config=<Unicode>\n",
            "    Full path of a config file.\n",
            "    Default: ''\n",
            "    Equivalent to: [--JupyterApp.config_file]\n",
            "--to=<Unicode>\n",
            "    The export format to be used, either one of the built-in formats\n",
            "            ['asciidoc', 'custom', 'html', 'latex', 'markdown', 'notebook', 'pdf', 'python', 'qtpdf', 'qtpng', 'rst', 'script', 'slides', 'webpdf']\n",
            "            or a dotted object name that represents the import path for an\n",
            "            ``Exporter`` class\n",
            "    Default: ''\n",
            "    Equivalent to: [--NbConvertApp.export_format]\n",
            "--template=<Unicode>\n",
            "    Name of the template to use\n",
            "    Default: ''\n",
            "    Equivalent to: [--TemplateExporter.template_name]\n",
            "--template-file=<Unicode>\n",
            "    Name of the template file to use\n",
            "    Default: None\n",
            "    Equivalent to: [--TemplateExporter.template_file]\n",
            "--theme=<Unicode>\n",
            "    Template specific theme(e.g. the name of a JupyterLab CSS theme distributed\n",
            "    as prebuilt extension for the lab template)\n",
            "    Default: 'light'\n",
            "    Equivalent to: [--HTMLExporter.theme]\n",
            "--sanitize_html=<Bool>\n",
            "    Whether the HTML in Markdown cells and cell outputs should be sanitized.This\n",
            "    should be set to True by nbviewer or similar tools.\n",
            "    Default: False\n",
            "    Equivalent to: [--HTMLExporter.sanitize_html]\n",
            "--writer=<DottedObjectName>\n",
            "    Writer class used to write the\n",
            "                                        results of the conversion\n",
            "    Default: 'FilesWriter'\n",
            "    Equivalent to: [--NbConvertApp.writer_class]\n",
            "--post=<DottedOrNone>\n",
            "    PostProcessor class used to write the\n",
            "                                        results of the conversion\n",
            "    Default: ''\n",
            "    Equivalent to: [--NbConvertApp.postprocessor_class]\n",
            "--output=<Unicode>\n",
            "    Overwrite base name use for output files.\n",
            "                Supports pattern replacements '{notebook_name}'.\n",
            "    Default: '{notebook_name}'\n",
            "    Equivalent to: [--NbConvertApp.output_base]\n",
            "--output-dir=<Unicode>\n",
            "    Directory to write output(s) to. Defaults\n",
            "                                  to output to the directory of each notebook. To recover\n",
            "                                  previous default behaviour (outputting to the current\n",
            "                                  working directory) use . as the flag value.\n",
            "    Default: ''\n",
            "    Equivalent to: [--FilesWriter.build_directory]\n",
            "--reveal-prefix=<Unicode>\n",
            "    The URL prefix for reveal.js (version 3.x).\n",
            "            This defaults to the reveal CDN, but can be any url pointing to a copy\n",
            "            of reveal.js.\n",
            "            For speaker notes to work, this must be a relative path to a local\n",
            "            copy of reveal.js: e.g., \"reveal.js\".\n",
            "            If a relative path is given, it must be a subdirectory of the\n",
            "            current directory (from which the server is run).\n",
            "            See the usage documentation\n",
            "            (https://nbconvert.readthedocs.io/en/latest/usage.html#reveal-js-html-slideshow)\n",
            "            for more details.\n",
            "    Default: ''\n",
            "    Equivalent to: [--SlidesExporter.reveal_url_prefix]\n",
            "--nbformat=<Enum>\n",
            "    The nbformat version to write.\n",
            "            Use this to downgrade notebooks.\n",
            "    Choices: any of [1, 2, 3, 4]\n",
            "    Default: 4\n",
            "    Equivalent to: [--NotebookExporter.nbformat_version]\n",
            "\n",
            "Examples\n",
            "--------\n",
            "\n",
            "    The simplest way to use nbconvert is\n",
            "\n",
            "            > jupyter nbconvert mynotebook.ipynb --to html\n",
            "\n",
            "            Options include ['asciidoc', 'custom', 'html', 'latex', 'markdown', 'notebook', 'pdf', 'python', 'qtpdf', 'qtpng', 'rst', 'script', 'slides', 'webpdf'].\n",
            "\n",
            "            > jupyter nbconvert --to latex mynotebook.ipynb\n",
            "\n",
            "            Both HTML and LaTeX support multiple output templates. LaTeX includes\n",
            "            'base', 'article' and 'report'.  HTML includes 'basic', 'lab' and\n",
            "            'classic'. You can specify the flavor of the format used.\n",
            "\n",
            "            > jupyter nbconvert --to html --template lab mynotebook.ipynb\n",
            "\n",
            "            You can also pipe the output to stdout, rather than a file\n",
            "\n",
            "            > jupyter nbconvert mynotebook.ipynb --stdout\n",
            "\n",
            "            PDF is generated via latex\n",
            "\n",
            "            > jupyter nbconvert mynotebook.ipynb --to pdf\n",
            "\n",
            "            You can get (and serve) a Reveal.js-powered slideshow\n",
            "\n",
            "            > jupyter nbconvert myslides.ipynb --to slides --post serve\n",
            "\n",
            "            Multiple notebooks can be given at the command line in a couple of\n",
            "            different ways:\n",
            "\n",
            "            > jupyter nbconvert notebook*.ipynb\n",
            "            > jupyter nbconvert notebook1.ipynb notebook2.ipynb\n",
            "\n",
            "            or you can specify the notebooks list in a config file, containing::\n",
            "\n",
            "                c.NbConvertApp.notebooks = [\"my_notebook.ipynb\"]\n",
            "\n",
            "            > jupyter nbconvert --config mycfg.py\n",
            "\n",
            "To see all available configurables, use `--help-all`.\n",
            "\n",
            "Colab notebook: /content/drive/MyDrive/'Colab Notebooks'/Cacao_Whole_Flower_Seg_unetr.ipynb converted to text file: /content/drive/MyDrive/Miami_21/project/manuscripts/CV_for_flower_CT/analysis/data/results/train_notebooks/134 for use as train parameters log\n"
          ]
        }
      ],
      "source": [
        "#@title Convert notebook to txt file and save for track record of train parameters for each saved model\n",
        "\n",
        "# Define train notebooks dir\n",
        "train_nbs_path = \"train_notebooks\"\n",
        "train_nbs_dir = os.path.join(out_dir, train_nbs_path)\n",
        "if not os.path.exists(train_nbs_dir):\n",
        "    os.mkdir(train_nbs_dir)\n",
        "\n",
        "\n",
        "# Save train notebook to text file\n",
        "train_nb_path = train_nbs_dir + '/' + str(TRAIN_SESS_NUM)\n",
        "\n",
        "# Original train notebook (.ipynb) location\n",
        "orig_nb_dir = \"/content/drive/MyDrive/'Colab Notebooks'/\" # @param [\"/content/drive/MyDrive/'Colab Notebooks'/\"] {\"allow-input\":true}\n",
        "fn = \"Cacao_Whole_Flower_Seg_unetr.ipynb\" # @param [\"Whole_Flower_Seg_unetr_newpipeline_abdomendata.ipynb\"] {\"allow-input\":true}\n",
        "fpath = orig_nb_dir + fn\n",
        "\n",
        "# Convert train notebook to text file\n",
        "%cd $orig_nb_dir\n",
        "!jupyter nbconvert --output-dir=$train_nb_path --to python $fpath\n",
        "\n",
        "print(\"Colab notebook: {} converted to text file: {} for use as train parameters log\".format(fpath, train_nb_path))"
      ]
    },
    {
      "cell_type": "code",
      "execution_count": 18,
      "metadata": {
        "id": "FAevzAg_JHpS",
        "colab": {
          "base_uri": "https://localhost:8080/",
          "height": 581
        },
        "outputId": "e217ddcd-1c80-490e-ab33-9428534b065a"
      },
      "outputs": [
        {
          "output_type": "stream",
          "name": "stdout",
          "text": [
            "Train graphs saved to:  /content/drive/MyDrive/Miami_21/project/manuscripts/CV_for_flower_CT/analysis/data/results/train_graphs/134.png\n"
          ]
        },
        {
          "output_type": "display_data",
          "data": {
            "text/plain": [
              "<Figure size 1200x600 with 2 Axes>"
            ],
            "image/png": "[encoded data removed]"
          },
          "metadata": {}
        }
      ],
      "source": [
        "#@title Plot train Loss and mean DICE and save results to file\n",
        "# Modified from : Copyright (c) MONAI Consortium and [Apache License, Version 2.0](http://www.apache.org/licenses/LICENSE-2.0)\n",
        "\n",
        "# Plot figures\n",
        "plt.figure(\"train\", (12, 6))\n",
        "plt.subplot(1, 2, 1)\n",
        "plt.title(\"Iteration Average Loss\")\n",
        "x = [eval_num * (i + 1) for i in range(len(epoch_loss_values))]\n",
        "y = epoch_loss_values\n",
        "plt.xlabel(\"Iteration\")\n",
        "plt.plot(x, y)\n",
        "plt.subplot(1, 2, 2)\n",
        "plt.title(\"Val Mean Dice\")\n",
        "x = [eval_num * (i + 1) for i in range(len(metric_values))]\n",
        "y = metric_values\n",
        "plt.xlabel(\"Iteration\")\n",
        "plt.plot(x, y)\n",
        "\n",
        "# Define train graphs dir\n",
        "train_graphs_dir = os.path.join(out_dir, \"train_graphs/\")\n",
        "if not os.path.exists(train_graphs_dir):\n",
        "    os.mkdir(train_graphs_dir)\n",
        "\n",
        "# Save train graph to file\n",
        "train_graph_path = train_graphs_dir + TRAIN_SESS_NUM + '.png'\n",
        "plt.savefig(train_graph_path)\n",
        "print(\"Train graphs saved to: \", train_graph_path)\n",
        "\n",
        "# Display the plot\n",
        "plt.show()"
      ]
    },
    {
      "cell_type": "markdown",
      "metadata": {
        "id": "9zYFwIyoCkIz"
      },
      "source": [
        "## Inspect Results"
      ]
    },
    {
      "cell_type": "code",
      "execution_count": 19,
      "metadata": {
        "id": "0VDCsgOuWA6a",
        "colab": {
          "base_uri": "https://localhost:8080/",
          "height": 441
        },
        "outputId": "45786044-f6c0-4317-9ed9-b09f6e77a5b9"
      },
      "outputs": [
        {
          "output_type": "stream",
          "name": "stdout",
          "text": [
            "torch.Size([1, 1, 173, 232, 285])\n",
            "torch.Size([1, 1, 173, 232, 285])\n",
            "torch.Size([1, 1, 173, 232, 285])\n"
          ]
        },
        {
          "output_type": "display_data",
          "data": {
            "text/plain": [
              "<Figure size 1800x600 with 3 Axes>"
            ],
            "image/png": "[encoded data removed]"
          },
          "metadata": {}
        }
      ],
      "source": [
        "#@title Plot model prediction vs ground truth\n",
        "\n",
        "val_img_idx = 0 # @param {\"type\":\"slider\",\"min\":0,\"max\":2,\"step\":1}\n",
        "slice_num = 147 # @param {\"type\":\"slider\",\"min\":0,\"max\":500,\"step\":1}\n",
        "\n",
        "# Load in saved model\n",
        "saved_models_dir = os.path.join(out_dir, \"saved_models\")\n",
        "use_last_model = True # @param {\"type\":\"boolean\"}\n",
        "if use_last_model:\n",
        "    last_attempt = !ls $saved_models_dir | tail -n 1\n",
        "    TRAIN_SESS_NUM = int(os.path.splitext(last_attempt[0])[0])\n",
        "    if TRAIN_SESS_NUM < 10:\n",
        "        TRAIN_SESS_NUM = '0' + str(TRAIN_SESS_NUM)\n",
        "    else:\n",
        "        TRAIN_SESS_NUM = str(TRAIN_SESS_NUM)\n",
        "else:\n",
        "    TRAIN_SESS_NUM = \"38\" # @param [\"01\",\"02\",\"03\"] {\"allow-input\":true}\n",
        "\n",
        "saved_model_path = saved_models_dir + '/' + TRAIN_SESS_NUM + \".pth\"\n",
        "model.load_state_dict(torch.load(saved_model_path))\n",
        "\n",
        "# Show model predictions on image\n",
        "model.eval()\n",
        "with torch.no_grad():\n",
        "    # Check an image from the val dataset\n",
        "    img_name = os.path.split(val_ds[val_img_idx]['image'].meta[\"filename_or_obj\"])[1]\n",
        "    img = val_ds[val_img_idx][\"image\"]\n",
        "    label = val_ds[val_img_idx][\"label\"]\n",
        "    val_inputs = torch.unsqueeze(img, 1).cuda()\n",
        "    print(val_inputs.shape)\n",
        "    val_labels = torch.unsqueeze(label, 1).cuda()\n",
        "    print(val_labels.shape)\n",
        "    val_outputs = sliding_window_inference(val_inputs, (96, 96, 96), 4, model, overlap=0.8)\n",
        "    print(val_outputs.shape)\n",
        "    plt.figure(\"check\", (18, 6))\n",
        "    plt.subplot(1, 3, 1)\n",
        "    plt.title(\"image\")\n",
        "    plt.imshow(val_inputs.cpu().numpy()[0, 0, :, :, slice_num], cmap=\"gray\")\n",
        "    plt.subplot(1, 3, 2)\n",
        "    plt.title(\"label\")\n",
        "    plt.imshow(val_labels.cpu().numpy()[0, 0, :, :, slice_num])\n",
        "    plt.subplot(1, 3, 3)\n",
        "    plt.title(\"output\")\n",
        "    if out_channels > 1:\n",
        "        plt.imshow(torch.argmax(val_outputs, dim=1).detach().cpu()[0, 0, :, :, slice_num])\n",
        "    else:\n",
        "        plt.imshow((val_outputs > 0.5).int().detach().cpu()[0, 0, :, :, slice_num])\n",
        "    plt.show()"
      ]
    }
  ],
  "metadata": {
    "accelerator": "GPU",
    "colab": {
      "gpuType": "A100",
      "machine_shape": "hm",
      "provenance": [],
      "include_colab_link": true
    },
    "kernelspec": {
      "display_name": "Python 3",
      "name": "python3"
    },
    "language_info": {
      "codemirror_mode": {
        "name": "ipython",
        "version": 3
      },
      "file_extension": ".py",
      "mimetype": "text/x-python",
      "name": "python",
      "nbconvert_exporter": "python",
      "pygments_lexer": "ipython3",
      "version": "3.8.13"
    },
    "vscode": {
      "interpreter": {
        "hash": "916dbcbb3f70747c44a77c7bcd40155683ae19c65e1c03b4aa3499c5328201f1"
      }
    }
  },
  "nbformat": 4,
  "nbformat_minor": 0
}