{
  "nbformat": 4,
  "nbformat_minor": 0,
  "metadata": {
    "colab": {
      "provenance": [],
      "authorship_tag": "ABX9TyO+VcuE4EyTDyc7GeP7fLC5",
      "include_colab_link": true
    },
    "kernelspec": {
      "name": "python3",
      "display_name": "Python 3"
    },
    "language_info": {
      "name": "python"
    }
  },
  "cells": [
    {
      "cell_type": "markdown",
      "metadata": {
        "id": "view-in-github",
        "colab_type": "text"
      },
      "source": [
        "<a href=\"https://colab.research.google.com/github/aubricot/CV_for_flower_CT/blob/main/preprocessing_anth_ov_nrrd2nifti.ipynb\" target=\"_parent\"><img src=\"https://colab.research.google.com/assets/colab-badge.svg\" alt=\"Open In Colab\"/></a>"
      ]
    },
    {
      "cell_type": "markdown",
      "source": [
        "# Convert .nrrd and .seg.nrrd files from 3D Slicer to .nii.gz (nifti) files for machine learning - Anther and Ovary\n",
        "---   \n",
        "*Last Updated 22 March 2025*  \n",
        "-Runs in Python 3-   \n",
        "Convert 3D slicer volume and segmentation files into nifti format for machine learning"
      ],
      "metadata": {
        "id": "ExUadQan_7DO"
      }
    },
    {
      "cell_type": "code",
      "execution_count": null,
      "metadata": {
        "id": "7g2TphAD91aS"
      },
      "outputs": [],
      "source": [
        "#@title Choose where to save results\n",
        "\n",
        "# Imports\n",
        "import os\n",
        "!pip install slicerio\n",
        "import slicerio\n",
        "import json\n",
        "!pip install SimpleITK\n",
        "import SimpleITK as sitk\n",
        "import nrrd\n",
        "\n",
        "# Use dropdown menu on right\n",
        "save = \"in my Google Drive\" #@param [\"in my Google Drive\", \"in Colab runtime (files deleted after each session)\"]\n",
        "\n",
        "# Mount google drive to export image tagging file(s)\n",
        "if 'Google Drive' in save:\n",
        "    from google.colab import drive\n",
        "    drive.mount('/content/drive', force_remount=True)\n",
        "\n",
        "# Type in the path to your project wd in form field on right\n",
        "wd = \"/content/drive/MyDrive/slicer/anth_ov_seg\" # @param [\"/content/drive/MyDrive/slicer\"] {\"allow-input\":true}\n",
        "print(\"\\nWorking with data from:\")\n",
        "%cd $wd\n",
        "\n",
        "# Set up folder to save .nii.gz files\n",
        "ngz_folder = \"anther_ov_nii_gzs\" # @param {\"type\":\"string\",\"placeholder\":\"nii_gzs\"}\n",
        "ngz_fpath = wd + '/' + ngz_folder\n",
        "# Set up folder to save segmentation files (labels)\n",
        "labels_fpath = ngz_fpath + '/' + 'labels'\n",
        "\n",
        "# Make ngz_folder if it doesn't already exist\n",
        "if not os.path.exists(ngz_fpath):\n",
        "    print(\"Making ngz_folder at: \", ngz_fpath)\n",
        "    os.makedirs(ngz_fpath)\n",
        "    print(\"Making labels_folder at : \", labels_fpath)\n",
        "    os.makedirs(labels_fpath)\n",
        "else:\n",
        "    print(\"\\nngz_folder and labels_folder already exist at: \", ngz_fpath, labels_fpath)"
      ]
    },
    {
      "cell_type": "code",
      "source": [
        "#@title Anther/Ovary: Crawl through wd to find .nrrd and _crop.nrrd files, convert them to .nii.gz, save to ngz_folder\n",
        "\n",
        "# List input and output filenames\n",
        "in_vols = [] # volume files (.nrrd or _crop.nrrd)\n",
        "out_vols = [] # volume files (.nii.gz)\n",
        "in_segs = [] # segmentation files (.seg.nrrd)\n",
        "out_segs = [] # segmentation files (_seg.nii.gz)\n",
        "\n",
        "# Make a list of directories to check if missing files\n",
        "vols_to_check = []\n",
        "segs_to_check = []\n",
        "\n",
        "seg_files = []\n",
        "vol_files = []\n",
        "\n",
        "# Walk through chosen directories\n",
        "dir = wd\n",
        "print(\"\\n \\033[92m Searching files in: {}\\033[0m\".format(dir))\n",
        "files = os.listdir(dir)\n",
        "for file in files:\n",
        "    if file.endswith(\".seg.nrrd\"):\n",
        "        seg_files.append(file)\n",
        "    elif file.endswith(\".nrrd\"):\n",
        "        vol_files.append(file)\n",
        "\n",
        "# Segs\n",
        "for seg_file in seg_files:\n",
        "    try:\n",
        "        print(\"\\033[92m Found segmentation file!\\033[0m\")\n",
        "        print(\"seg_file: \", seg_file)\n",
        "        # First, check if it has the correct number of labels\n",
        "        num_labels = 2 #@param\n",
        "        seg = slicerio.read_segmentation(dir + '/' + seg_file, skip_voxels=True)\n",
        "        num_segs = len(seg[\"segments\"])\n",
        "        if num_segs == num_labels:\n",
        "                img = sitk.ReadImage(dir + '/' + seg_file)\n",
        "                outpath = labels_fpath + '/' + seg_file[:-9] + '_seg.nii.gz'\n",
        "                print(\"seg_file saved to: \", outpath)\n",
        "                sitk.WriteImage(img, outpath)\n",
        "                in_segs.append(seg_file)\n",
        "                out_segs.append(outpath)\n",
        "        else:\n",
        "                print(\"\\033[31m Wrong number of labels for segmentation file: {}\\033[0m\\n\".format((dir + '/' + seg_file)))\n",
        "                segs_to_check.append((dir + '/' + seg_file))\n",
        "    except:\n",
        "        pass\n",
        "\n",
        "# Vols\n",
        "for vol_file in vol_files:\n",
        "    try:\n",
        "        print(\"\\033[92m Found volume file!\\033[0m\")\n",
        "        print(\"vol_file: \", vol_file)\n",
        "        img = sitk.ReadImage(dir + '/' + vol_file)\n",
        "        outpath = ngz_fpath + '/' + vol_file[:-5] + '.nii.gz'\n",
        "        print(\"vol_file saved to: \", outpath)\n",
        "        sitk.WriteImage(img, outpath)\n",
        "        in_vols.append(vol_file)\n",
        "        out_vols.append(outpath)\n",
        "    except:\n",
        "        pass\n",
        "\n",
        "    print(\"{} .nrrd files and {} seg.nrrd files from {} converted to .nii.gz at \\n volumes: {} \\n labels: {}\".format(len(in_vols), len(in_segs), wd, ngz_fpath, labels_fpath))"
      ],
      "metadata": {
        "id": "YZd0goeYpaUg"
      },
      "execution_count": null,
      "outputs": []
    },
    {
      "cell_type": "code",
      "source": [
        "#@title Zip the folder for archival purposes\n",
        "# Enter wd, zip and unzipped filename using form field to right\n",
        "wd = \"/content/drive/MyDrive/slicer/anth_ov_seg\" #@param [\"/content/drive/MyDrive\"] {allow-input: true}\n",
        "zip_fn = ngz_folder + '.zip'\n",
        "zip_fpath = wd + '/' + zip_fn\n",
        "unzipped_fn = ngz_folder\n",
        "unzipped_fpath = wd + '/' + unzipped_fn\n",
        "\n",
        "# Zip the file/folder\n",
        "!zip -r -j $zip_fpath $unzipped_fpath"
      ],
      "metadata": {
        "id": "nlWw3UOZsMWO"
      },
      "execution_count": null,
      "outputs": []
    }
  ]
}